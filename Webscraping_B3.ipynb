{
 "cells": [
  {
   "cell_type": "markdown",
   "id": "77eaf6a9",
   "metadata": {},
   "source": [
    "# Webscraping na B3\n",
    "### Composição de índices\n",
    "- Github: victordhn\n",
    "- Twitter: victor_dhn\n",
    "- [Linkedin: Victor Dahan](https://www.linkedin.com/in/victor-dahan-04392451/) "
   ]
  },
  {
   "cell_type": "markdown",
   "id": "23147345",
   "metadata": {},
   "source": [
    "### Alguns pontos importantes:\n",
    "- É preciso usar o tag exato do índice na B3 (alguns exemplos: IBOV, IBXX, IBXL, IBRA, IGCX, ITAG, IGNM, IGCT, IDIV, MLCX, SMLL, IVBX, ICO2, ISEE, ICON, IEEX, IFNC, IMOB)\n",
    "- Os pacotes utilizados nesse código mudam constantemente, assim como o site de B3. Vou tentar manter o status do código atualizado\n",
    "- A data do último teste do código foi 09/07/2023: funcionando\n",
    "- O programa baixa e deleta o arquivo da B3 no seu computador, então pode existir algum problema caso seu sistema recuse o download.\n",
    "- Para sanar o problema acima, é possível rodar o programa no Google Colab, que executa o download direto para o ambiente do site e não para sua máquina"
   ]
  },
  {
   "cell_type": "markdown",
   "id": "a4a660d8",
   "metadata": {},
   "source": [
    "### Libraries utilizadas:\n",
    "- selenium\n",
    "- os\n",
    "- glob\n",
    "- time\n",
    "- numpy\n",
    "- pandas\n",
    "\n",
    "`(update, set-2023) precisa atualizar o selenium para funcionar - pip install -U selenium==4.11.2`"
   ]
  },
  {
   "cell_type": "code",
   "execution_count": null,
   "id": "f8833de2",
   "metadata": {},
   "outputs": [],
   "source": [
    "import numpy as np\n",
    "import pandas as pd\n",
    "from selenium import webdriver\n",
    "from selenium.webdriver.common.by import By\n",
    "from time import sleep\n",
    "\n",
    "# para ignorar uns warnings chatos do Jupyter\n",
    "import warnings\n",
    "warnings.filterwarnings('ignore')"
   ]
  },
  {
   "cell_type": "markdown",
   "id": "bbe6720c",
   "metadata": {},
   "source": [
    "- Muita atenção aqui pois você vai precisar alterar o código e colocar o endereço da sua pasta padrão de downloads"
   ]
  },
  {
   "cell_type": "code",
   "execution_count": null,
   "id": "1025f5d9",
   "metadata": {},
   "outputs": [],
   "source": [
    "# Vamos definir uma função para facilitar na hora de executar para diferentes índices\n",
    "def composicao_indice(indice,espera=2):\n",
    "    \n",
    "    # Aqui vamos utilizar o selenium para o webscraping. \n",
    "    # Pra resumir, vamos rodar um Chrome através do Selenium, iremos na url do índice na B3 e vamos procurar pelo link... \n",
    "    # ...chamado 'Download' nos elementos da página.\n",
    "    driver = webdriver.Chrome()\n",
    "    driver.get('https://sistemaswebb3-listados.b3.com.br/indexPage/day/'+indice+'?language=pt-br')\n",
    "    elementos = driver.find_elements(By.LINK_TEXT, 'Download')\n",
    "    sleep(espera) # A função sleep apenas dá um tempo para que a página abra corretamente\n",
    "    \n",
    "    # Os elementos ficam armazenados na lista. Como só tem um link_text download, vamos executar o método click nele... \n",
    "    # ...para começar o download\n",
    "    elementos[0].click()\n",
    "    sleep(espera)\n",
    "    \n",
    "    # Esta parte utiliza o package glob para armazenar o nome de todos arquivos csv da pasta download numa lista\n",
    "    # Em seguida, vamos utilizar o mais recente, que é justamente o que 'acabamos' de baixar\n",
    "    import glob\n",
    "    import os\n",
    "    list_of_files = glob.glob('C:/Users/Victor/Downloads/*.csv') # UTILIZAR A SUA PASTA DOWNLOADS\n",
    "    latest_file = max(list_of_files, key=os.path.getctime)\n",
    "    \n",
    "    df = pd.read_csv(latest_file,sep=';',encoding='ISO-8859-1',skipfooter=2,thousands='.',decimal=',',header=1,\\\n",
    "                     index_col=False)\n",
    "    \n",
    "    os.remove(latest_file) # este comando deleta o arquivo logo após o seu conteudo ser passado pra variável df\n",
    "    \n",
    "    return df"
   ]
  },
  {
   "cell_type": "markdown",
   "id": "9d33546a",
   "metadata": {},
   "source": [
    "- rodando alguns exemplos (é preciso rodar um comando de cada vez para dar tempo do pacote baixar as informações)"
   ]
  },
  {
   "cell_type": "code",
   "execution_count": null,
   "id": "a28a6f62",
   "metadata": {},
   "outputs": [],
   "source": [
    "IBOV = composicao_indice('IBOV')"
   ]
  },
  {
   "cell_type": "code",
   "execution_count": null,
   "id": "2e10fb7e",
   "metadata": {
    "scrolled": false
   },
   "outputs": [],
   "source": [
    "IBOV"
   ]
  },
  {
   "cell_type": "code",
   "execution_count": null,
   "id": "58f547d4",
   "metadata": {},
   "outputs": [],
   "source": [
    "IBrX_50 = composicao_indice('IBXL')"
   ]
  },
  {
   "cell_type": "code",
   "execution_count": null,
   "id": "d391d0ba",
   "metadata": {
    "scrolled": true
   },
   "outputs": [],
   "source": [
    "IBrX_50"
   ]
  },
  {
   "cell_type": "code",
   "execution_count": null,
   "id": "048aa0c8",
   "metadata": {},
   "outputs": [],
   "source": [
    "SMALL_CAPS = composicao_indice('SMLL')"
   ]
  },
  {
   "cell_type": "code",
   "execution_count": null,
   "id": "8e188c72",
   "metadata": {},
   "outputs": [],
   "source": [
    "SMALL_CAPS"
   ]
  }
 ],
 "metadata": {
  "kernelspec": {
   "display_name": "Python 3 (ipykernel)",
   "language": "python",
   "name": "python3"
  },
  "language_info": {
   "codemirror_mode": {
    "name": "ipython",
    "version": 3
   },
   "file_extension": ".py",
   "mimetype": "text/x-python",
   "name": "python",
   "nbconvert_exporter": "python",
   "pygments_lexer": "ipython3",
   "version": "3.10.9"
  }
 },
 "nbformat": 4,
 "nbformat_minor": 5
}
