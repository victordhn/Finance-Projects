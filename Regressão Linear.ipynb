{
 "cells": [
  {
   "cell_type": "markdown",
   "id": "723669bd",
   "metadata": {},
   "source": [
    "# Regressão Linear\n",
    "### Prevendo o valor de mercado de uma empresa\n",
    "- tutorial por @victordhn\n",
    "- [Linkedin: Victor Dahan](https://www.linkedin.com/in/victor-dahan-04392451/) "
   ]
  },
  {
   "cell_type": "markdown",
   "id": "39064df4",
   "metadata": {},
   "source": [
    "### Alguns pontos (muito) importantes:\n",
    "- Nesse tutorial a gente vai rodar uma regressão linear simplificada, e portanto, o valor preditivo e a aplicação desse modelo é APENAS ACADÊMICA.\n",
    "- Para trazer um pouco mais de realidade no modelo, utilizei dados reais, baixados utilizando a API do site fundamentus.com.br (tópico para outro tutorial), e portanto, não esperamos que o resultado do modelo seja perfeito como o obtivo utilizando datasets preparados para esta finalidade."
   ]
  },
  {
   "cell_type": "markdown",
   "id": "e6baba0a",
   "metadata": {},
   "source": [
    "### Atenção extra para este ponto: \n",
    "As variáveis utilizadas no modelo foram escolhidas para fazer o modelo funcionar. Essas não são as melhores variáveis, e nem tem embasamento teórico. Tudo foi feito para que o tutorial ficasse mais claro e objetivo. O foco está na regressão linear, em como obter resultados corretos e confiáveis aplicando este modelo nas suas análises."
   ]
  },
  {
   "cell_type": "markdown",
   "id": "3dc1a1d7",
   "metadata": {},
   "source": [
    "### Libraries utilizadas:\n",
    "- pandas\n",
    "- numpy\n",
    "- matplotlib\n",
    "- seaborn\n",
    "- sklearn"
   ]
  },
  {
   "cell_type": "code",
   "execution_count": 1,
   "id": "f4b5f5ab",
   "metadata": {},
   "outputs": [],
   "source": [
    "import pandas  as pd\n",
    "import numpy as np\n",
    "import matplotlib.pyplot as plt\n",
    "import seaborn as sns\n",
    "import warnings\n",
    "\n",
    "warnings.filterwarnings('ignore')\n",
    "plt.rcParams['figure.figsize'] = [8,5]\n",
    "plt.rcParams['font.size'] = 14\n",
    "plt.rcParams['font.weight']= 'bold'\n",
    "plt.style.use('seaborn-whitegrid')"
   ]
  },
  {
   "cell_type": "markdown",
   "id": "8ddc2e26",
   "metadata": {},
   "source": [
    "### 1.1 Preparando os dados"
   ]
  },
  {
   "cell_type": "markdown",
   "id": "c1b53d12",
   "metadata": {},
   "source": [
    "- Dataset baixando utilizando API da fundamentus.com.br (vou deixar o dataset disponível em algum lugar do meu github).\n",
    "- Basicamente, baixei todas informações financeiras sobre as empresas que fazem parte do índice Ibovespa.\n",
    "- Tenho outro tutorial ensinando a baixar a composicação atualidade de qualquer índice da B3 (no github)."
   ]
  },
  {
   "cell_type": "code",
   "execution_count": 2,
   "id": "bcfc8083",
   "metadata": {
    "scrolled": true
   },
   "outputs": [
    {
     "data": {
      "text/html": [
       "<div>\n",
       "<style scoped>\n",
       "    .dataframe tbody tr th:only-of-type {\n",
       "        vertical-align: middle;\n",
       "    }\n",
       "\n",
       "    .dataframe tbody tr th {\n",
       "        vertical-align: top;\n",
       "    }\n",
       "\n",
       "    .dataframe thead th {\n",
       "        text-align: right;\n",
       "    }\n",
       "</style>\n",
       "<table border=\"1\" class=\"dataframe\">\n",
       "  <thead>\n",
       "    <tr style=\"text-align: right;\">\n",
       "      <th></th>\n",
       "      <th>Unnamed: 0</th>\n",
       "      <th>Papel</th>\n",
       "      <th>Tipo</th>\n",
       "      <th>Empresa</th>\n",
       "      <th>Setor</th>\n",
       "      <th>Subsetor</th>\n",
       "      <th>Cotacao</th>\n",
       "      <th>Data_ult_cot</th>\n",
       "      <th>Min_52_sem</th>\n",
       "      <th>Max_52_sem</th>\n",
       "      <th>...</th>\n",
       "      <th>Lucro_Liquido_12m</th>\n",
       "      <th>Receita_Liquida_3m</th>\n",
       "      <th>EBIT_3m</th>\n",
       "      <th>Lucro_Liquido_3m</th>\n",
       "      <th>Cart_de_Credito</th>\n",
       "      <th>Depositos</th>\n",
       "      <th>Result_Int_Financ_12m</th>\n",
       "      <th>Rec_Servicos_12m</th>\n",
       "      <th>Result_Int_Financ_3m</th>\n",
       "      <th>Rec_Servicos_3m</th>\n",
       "    </tr>\n",
       "  </thead>\n",
       "  <tbody>\n",
       "    <tr>\n",
       "      <th>0</th>\n",
       "      <td>RRRP3</td>\n",
       "      <td>RRRP3</td>\n",
       "      <td>ON NM</td>\n",
       "      <td>3R PETROLEUM ON NM</td>\n",
       "      <td>Petróleo, Gás e Biocombustíveis</td>\n",
       "      <td>Exploração, Refino e Distribuição</td>\n",
       "      <td>32.92</td>\n",
       "      <td>2023-08-31</td>\n",
       "      <td>26.73</td>\n",
       "      <td>50.51</td>\n",
       "      <td>...</td>\n",
       "      <td>478562000</td>\n",
       "      <td>8.365820e+08</td>\n",
       "      <td>1.178710e+08</td>\n",
       "      <td>77016000</td>\n",
       "      <td>NaN</td>\n",
       "      <td>NaN</td>\n",
       "      <td>NaN</td>\n",
       "      <td>NaN</td>\n",
       "      <td>NaN</td>\n",
       "      <td>NaN</td>\n",
       "    </tr>\n",
       "    <tr>\n",
       "      <th>1</th>\n",
       "      <td>ALSO3</td>\n",
       "      <td>ALSO3</td>\n",
       "      <td>ON</td>\n",
       "      <td>ALIANSCSONAE ON</td>\n",
       "      <td>Exploração de Imóveis</td>\n",
       "      <td>Exploração de Imóveis</td>\n",
       "      <td>22.77</td>\n",
       "      <td>2023-08-31</td>\n",
       "      <td>15.15</td>\n",
       "      <td>25.47</td>\n",
       "      <td>...</td>\n",
       "      <td>3204330000</td>\n",
       "      <td>6.501810e+08</td>\n",
       "      <td>2.777070e+08</td>\n",
       "      <td>152985000</td>\n",
       "      <td>NaN</td>\n",
       "      <td>NaN</td>\n",
       "      <td>NaN</td>\n",
       "      <td>NaN</td>\n",
       "      <td>NaN</td>\n",
       "      <td>NaN</td>\n",
       "    </tr>\n",
       "    <tr>\n",
       "      <th>2</th>\n",
       "      <td>ALPA4</td>\n",
       "      <td>ALPA4</td>\n",
       "      <td>PN N1</td>\n",
       "      <td>ALPARGATAS PN N1</td>\n",
       "      <td>Tecidos, Vestuário e Calçados</td>\n",
       "      <td>Calçados</td>\n",
       "      <td>8.41</td>\n",
       "      <td>2023-08-31</td>\n",
       "      <td>7.02</td>\n",
       "      <td>23.60</td>\n",
       "      <td>...</td>\n",
       "      <td>-228109000</td>\n",
       "      <td>9.263590e+08</td>\n",
       "      <td>-5.899600e+07</td>\n",
       "      <td>-52853000</td>\n",
       "      <td>NaN</td>\n",
       "      <td>NaN</td>\n",
       "      <td>NaN</td>\n",
       "      <td>NaN</td>\n",
       "      <td>NaN</td>\n",
       "      <td>NaN</td>\n",
       "    </tr>\n",
       "    <tr>\n",
       "      <th>3</th>\n",
       "      <td>ABEV3</td>\n",
       "      <td>ABEV3</td>\n",
       "      <td>ON</td>\n",
       "      <td>AMBEV S/A ON</td>\n",
       "      <td>Bebidas</td>\n",
       "      <td>Cervejas e Refrigerantes</td>\n",
       "      <td>13.84</td>\n",
       "      <td>2023-08-31</td>\n",
       "      <td>12.86</td>\n",
       "      <td>16.03</td>\n",
       "      <td>...</td>\n",
       "      <td>14278000000</td>\n",
       "      <td>1.889810e+10</td>\n",
       "      <td>3.174830e+09</td>\n",
       "      <td>2502970000</td>\n",
       "      <td>NaN</td>\n",
       "      <td>NaN</td>\n",
       "      <td>NaN</td>\n",
       "      <td>NaN</td>\n",
       "      <td>NaN</td>\n",
       "      <td>NaN</td>\n",
       "    </tr>\n",
       "    <tr>\n",
       "      <th>4</th>\n",
       "      <td>ARZZ3</td>\n",
       "      <td>ARZZ3</td>\n",
       "      <td>ON NM</td>\n",
       "      <td>AREZZO CO ON NM</td>\n",
       "      <td>Comércio</td>\n",
       "      <td>Tecidos, Vestuário e Calçados</td>\n",
       "      <td>70.67</td>\n",
       "      <td>2023-08-31</td>\n",
       "      <td>58.96</td>\n",
       "      <td>102.67</td>\n",
       "      <td>...</td>\n",
       "      <td>369973000</td>\n",
       "      <td>1.131020e+09</td>\n",
       "      <td>1.246570e+08</td>\n",
       "      <td>100626000</td>\n",
       "      <td>NaN</td>\n",
       "      <td>NaN</td>\n",
       "      <td>NaN</td>\n",
       "      <td>NaN</td>\n",
       "      <td>NaN</td>\n",
       "      <td>NaN</td>\n",
       "    </tr>\n",
       "  </tbody>\n",
       "</table>\n",
       "<p>5 rows × 55 columns</p>\n",
       "</div>"
      ],
      "text/plain": [
       "  Unnamed: 0  Papel   Tipo             Empresa  \\\n",
       "0      RRRP3  RRRP3  ON NM  3R PETROLEUM ON NM   \n",
       "1      ALSO3  ALSO3     ON     ALIANSCSONAE ON   \n",
       "2      ALPA4  ALPA4  PN N1    ALPARGATAS PN N1   \n",
       "3      ABEV3  ABEV3     ON        AMBEV S/A ON   \n",
       "4      ARZZ3  ARZZ3  ON NM     AREZZO CO ON NM   \n",
       "\n",
       "                             Setor                           Subsetor  \\\n",
       "0  Petróleo, Gás e Biocombustíveis  Exploração, Refino e Distribuição   \n",
       "1            Exploração de Imóveis              Exploração de Imóveis   \n",
       "2    Tecidos, Vestuário e Calçados                           Calçados   \n",
       "3                          Bebidas           Cervejas e Refrigerantes   \n",
       "4                         Comércio      Tecidos, Vestuário e Calçados   \n",
       "\n",
       "   Cotacao Data_ult_cot  Min_52_sem  Max_52_sem  ...  Lucro_Liquido_12m  \\\n",
       "0    32.92   2023-08-31       26.73       50.51  ...          478562000   \n",
       "1    22.77   2023-08-31       15.15       25.47  ...         3204330000   \n",
       "2     8.41   2023-08-31        7.02       23.60  ...         -228109000   \n",
       "3    13.84   2023-08-31       12.86       16.03  ...        14278000000   \n",
       "4    70.67   2023-08-31       58.96      102.67  ...          369973000   \n",
       "\n",
       "   Receita_Liquida_3m       EBIT_3m Lucro_Liquido_3m  Cart_de_Credito  \\\n",
       "0        8.365820e+08  1.178710e+08         77016000              NaN   \n",
       "1        6.501810e+08  2.777070e+08        152985000              NaN   \n",
       "2        9.263590e+08 -5.899600e+07        -52853000              NaN   \n",
       "3        1.889810e+10  3.174830e+09       2502970000              NaN   \n",
       "4        1.131020e+09  1.246570e+08        100626000              NaN   \n",
       "\n",
       "   Depositos  Result_Int_Financ_12m Rec_Servicos_12m Result_Int_Financ_3m  \\\n",
       "0        NaN                    NaN              NaN                  NaN   \n",
       "1        NaN                    NaN              NaN                  NaN   \n",
       "2        NaN                    NaN              NaN                  NaN   \n",
       "3        NaN                    NaN              NaN                  NaN   \n",
       "4        NaN                    NaN              NaN                  NaN   \n",
       "\n",
       "  Rec_Servicos_3m  \n",
       "0             NaN  \n",
       "1             NaN  \n",
       "2             NaN  \n",
       "3             NaN  \n",
       "4             NaN  \n",
       "\n",
       "[5 rows x 55 columns]"
      ]
     },
     "execution_count": 2,
     "metadata": {},
     "output_type": "execute_result"
    }
   ],
   "source": [
    "df = pd.read_csv('C:/Users/Victor/Documents/Github/repos/Algoritmos Finanças/dataset_fundamentus.csv')\n",
    "df.head(5)"
   ]
  },
  {
   "cell_type": "code",
   "execution_count": 3,
   "id": "937cc973",
   "metadata": {
    "scrolled": true
   },
   "outputs": [
    {
     "data": {
      "text/plain": [
       "Unnamed: 0                 object\n",
       "Papel                      object\n",
       "Tipo                       object\n",
       "Empresa                    object\n",
       "Setor                      object\n",
       "Subsetor                   object\n",
       "Cotacao                   float64\n",
       "Data_ult_cot               object\n",
       "Min_52_sem                float64\n",
       "Max_52_sem                float64\n",
       "Vol_med_2m                  int64\n",
       "Valor_de_mercado            int64\n",
       "Valor_da_firma             object\n",
       "Ult_balanco_processado     object\n",
       "Nro_Acoes                   int64\n",
       "PL                          int64\n",
       "PVP                         int64\n",
       "PEBIT                      object\n",
       "PSR                        object\n",
       "PAtivos                    object\n",
       "PCap_Giro                  object\n",
       "PAtiv_Circ_Liq             object\n",
       "Div_Yield                  object\n",
       "EV_EBITDA                  object\n",
       "EV_EBIT                    object\n",
       "Cres_Rec_5a                object\n",
       "LPA                         int64\n",
       "VPA                         int64\n",
       "Marg_Bruta                 object\n",
       "Marg_EBIT                  object\n",
       "Marg_Liquida               object\n",
       "EBIT_Ativo                 object\n",
       "ROIC                       object\n",
       "ROE                        object\n",
       "Liquidez_Corr              object\n",
       "Div_Br_Patrim              object\n",
       "Giro_Ativos                object\n",
       "Ativo                       int64\n",
       "Disponibilidades          float64\n",
       "Ativo_Circulante          float64\n",
       "Div_Bruta                 float64\n",
       "Div_Liquida               float64\n",
       "Patrim_Liq                  int64\n",
       "Receita_Liquida_12m       float64\n",
       "EBIT_12m                  float64\n",
       "Lucro_Liquido_12m           int64\n",
       "Receita_Liquida_3m        float64\n",
       "EBIT_3m                   float64\n",
       "Lucro_Liquido_3m            int64\n",
       "Cart_de_Credito           float64\n",
       "Depositos                 float64\n",
       "Result_Int_Financ_12m     float64\n",
       "Rec_Servicos_12m          float64\n",
       "Result_Int_Financ_3m      float64\n",
       "Rec_Servicos_3m           float64\n",
       "dtype: object"
      ]
     },
     "execution_count": 3,
     "metadata": {},
     "output_type": "execute_result"
    }
   ],
   "source": [
    "df.dtypes"
   ]
  },
  {
   "cell_type": "markdown",
   "id": "9cbf3cf7",
   "metadata": {},
   "source": [
    "Selecionando as variáveis de interesse:\n",
    "- Vou utilizar como variável dependente o Valor de Mercado da empresa (variável que queremos prever)\n",
    "- Para as variáveis independentes do modelo, vou utilizar o EBIT, ROE, LPA, Ativo, Patrimônico Líquido e o Dividend Yield da empresa"
   ]
  },
  {
   "cell_type": "code",
   "execution_count": 4,
   "id": "0ae974bf",
   "metadata": {},
   "outputs": [],
   "source": [
    "df_new = df[['Empresa','Valor_de_mercado','EBIT_12m','ROE','LPA','Ativo','Patrim_Liq','Div_Yield']]"
   ]
  },
  {
   "cell_type": "code",
   "execution_count": 5,
   "id": "35afaf6b",
   "metadata": {
    "scrolled": true
   },
   "outputs": [
    {
     "data": {
      "text/html": [
       "<div>\n",
       "<style scoped>\n",
       "    .dataframe tbody tr th:only-of-type {\n",
       "        vertical-align: middle;\n",
       "    }\n",
       "\n",
       "    .dataframe tbody tr th {\n",
       "        vertical-align: top;\n",
       "    }\n",
       "\n",
       "    .dataframe thead th {\n",
       "        text-align: right;\n",
       "    }\n",
       "</style>\n",
       "<table border=\"1\" class=\"dataframe\">\n",
       "  <thead>\n",
       "    <tr style=\"text-align: right;\">\n",
       "      <th></th>\n",
       "      <th>Empresa</th>\n",
       "      <th>Valor_de_mercado</th>\n",
       "      <th>EBIT_12m</th>\n",
       "      <th>ROE</th>\n",
       "      <th>LPA</th>\n",
       "      <th>Ativo</th>\n",
       "      <th>Patrim_Liq</th>\n",
       "      <th>Div_Yield</th>\n",
       "    </tr>\n",
       "  </thead>\n",
       "  <tbody>\n",
       "    <tr>\n",
       "      <th>0</th>\n",
       "      <td>3R PETROLEUM ON NM</td>\n",
       "      <td>7900300000</td>\n",
       "      <td>4.228010e+08</td>\n",
       "      <td>9.1%</td>\n",
       "      <td>199</td>\n",
       "      <td>18679400000</td>\n",
       "      <td>5252820000</td>\n",
       "      <td>0.0%</td>\n",
       "    </tr>\n",
       "    <tr>\n",
       "      <th>1</th>\n",
       "      <td>ALIANSCSONAE ON</td>\n",
       "      <td>13068500000</td>\n",
       "      <td>8.557360e+08</td>\n",
       "      <td>21.8%</td>\n",
       "      <td>558</td>\n",
       "      <td>28202200000</td>\n",
       "      <td>14673500000</td>\n",
       "      <td>2.3%</td>\n",
       "    </tr>\n",
       "    <tr>\n",
       "      <th>2</th>\n",
       "      <td>ALPARGATAS PN N1</td>\n",
       "      <td>5744550000</td>\n",
       "      <td>2.201080e+08</td>\n",
       "      <td>-4.3%</td>\n",
       "      <td>-33</td>\n",
       "      <td>7766710000</td>\n",
       "      <td>5309890000</td>\n",
       "      <td>0.0%</td>\n",
       "    </tr>\n",
       "    <tr>\n",
       "      <th>3</th>\n",
       "      <td>AMBEV S/A ON</td>\n",
       "      <td>218033000000</td>\n",
       "      <td>1.629430e+10</td>\n",
       "      <td>16.8%</td>\n",
       "      <td>91</td>\n",
       "      <td>133294000000</td>\n",
       "      <td>85074600000</td>\n",
       "      <td>5.5%</td>\n",
       "    </tr>\n",
       "    <tr>\n",
       "      <th>4</th>\n",
       "      <td>AREZZO CO ON NM</td>\n",
       "      <td>7843590000</td>\n",
       "      <td>4.877970e+08</td>\n",
       "      <td>13.3%</td>\n",
       "      <td>333</td>\n",
       "      <td>5435060000</td>\n",
       "      <td>2783100000</td>\n",
       "      <td>2.2%</td>\n",
       "    </tr>\n",
       "  </tbody>\n",
       "</table>\n",
       "</div>"
      ],
      "text/plain": [
       "              Empresa  Valor_de_mercado      EBIT_12m    ROE  LPA  \\\n",
       "0  3R PETROLEUM ON NM        7900300000  4.228010e+08   9.1%  199   \n",
       "1     ALIANSCSONAE ON       13068500000  8.557360e+08  21.8%  558   \n",
       "2    ALPARGATAS PN N1        5744550000  2.201080e+08  -4.3%  -33   \n",
       "3        AMBEV S/A ON      218033000000  1.629430e+10  16.8%   91   \n",
       "4     AREZZO CO ON NM        7843590000  4.877970e+08  13.3%  333   \n",
       "\n",
       "          Ativo   Patrim_Liq Div_Yield  \n",
       "0   18679400000   5252820000      0.0%  \n",
       "1   28202200000  14673500000      2.3%  \n",
       "2    7766710000   5309890000      0.0%  \n",
       "3  133294000000  85074600000      5.5%  \n",
       "4    5435060000   2783100000      2.2%  "
      ]
     },
     "execution_count": 5,
     "metadata": {},
     "output_type": "execute_result"
    }
   ],
   "source": [
    "df_new.head(5)"
   ]
  },
  {
   "cell_type": "markdown",
   "id": "7207b6b3",
   "metadata": {},
   "source": [
    "- Nessa etapa estou só me assegurando que todas variáveis são numéricas e que não terei outliers no dataset (você pode pular caso seu dataset já está limpo e preparado)"
   ]
  },
  {
   "cell_type": "code",
   "execution_count": 6,
   "id": "11e2231d",
   "metadata": {},
   "outputs": [],
   "source": [
    "df_new['ROE'] = df_new['ROE'].str.rstrip(\"%\").astype(float)\n",
    "df_new['Div_Yield'] = df_new['Div_Yield'].str.rstrip(\"%\").astype(float)\n",
    "df_new = df_new.fillna(0)"
   ]
  },
  {
   "cell_type": "code",
   "execution_count": 7,
   "id": "1119c2a7",
   "metadata": {
    "scrolled": true
   },
   "outputs": [
    {
     "data": {
      "text/plain": [
       "Empresa              object\n",
       "Valor_de_mercado      int64\n",
       "EBIT_12m            float64\n",
       "ROE                 float64\n",
       "LPA                   int64\n",
       "Ativo                 int64\n",
       "Patrim_Liq            int64\n",
       "Div_Yield           float64\n",
       "dtype: object"
      ]
     },
     "execution_count": 7,
     "metadata": {},
     "output_type": "execute_result"
    }
   ],
   "source": [
    "df_new.dtypes"
   ]
  },
  {
   "cell_type": "code",
   "execution_count": 8,
   "id": "f63ec3e1",
   "metadata": {},
   "outputs": [],
   "source": [
    "columns_of_interest = ['Valor_de_mercado','EBIT_12m','ROE','LPA','Ativo','Patrim_Liq','Div_Yield']"
   ]
  },
  {
   "cell_type": "markdown",
   "id": "414027c0",
   "metadata": {},
   "source": [
    "Cuidando para evitar outliers"
   ]
  },
  {
   "cell_type": "code",
   "execution_count": 9,
   "id": "d475203c",
   "metadata": {
    "scrolled": false
   },
   "outputs": [],
   "source": [
    "for col in columns_of_interest:\n",
    "    mean = df_new[col].mean()\n",
    "    std = df_new[col].std()\n",
    "    lower_bound = mean - 2 * std  # Adjust the multiplier as needed\n",
    "    upper_bound = mean + 2 * std  # Adjust the multiplier as needed\n",
    "    df_new[col] = df_new[col].apply(lambda x: mean if x == 0 or x < lower_bound or x > upper_bound else x)"
   ]
  },
  {
   "cell_type": "code",
   "execution_count": 10,
   "id": "8f571fe2",
   "metadata": {},
   "outputs": [
    {
     "data": {
      "text/html": [
       "<div>\n",
       "<style scoped>\n",
       "    .dataframe tbody tr th:only-of-type {\n",
       "        vertical-align: middle;\n",
       "    }\n",
       "\n",
       "    .dataframe tbody tr th {\n",
       "        vertical-align: top;\n",
       "    }\n",
       "\n",
       "    .dataframe thead th {\n",
       "        text-align: right;\n",
       "    }\n",
       "</style>\n",
       "<table border=\"1\" class=\"dataframe\">\n",
       "  <thead>\n",
       "    <tr style=\"text-align: right;\">\n",
       "      <th></th>\n",
       "      <th>Empresa</th>\n",
       "      <th>Valor_de_mercado</th>\n",
       "      <th>EBIT_12m</th>\n",
       "      <th>ROE</th>\n",
       "      <th>LPA</th>\n",
       "      <th>Ativo</th>\n",
       "      <th>Patrim_Liq</th>\n",
       "      <th>Div_Yield</th>\n",
       "    </tr>\n",
       "  </thead>\n",
       "  <tbody>\n",
       "    <tr>\n",
       "      <th>0</th>\n",
       "      <td>3R PETROLEUM ON NM</td>\n",
       "      <td>7.900300e+09</td>\n",
       "      <td>4.228010e+08</td>\n",
       "      <td>9.1</td>\n",
       "      <td>199.0</td>\n",
       "      <td>1.867940e+10</td>\n",
       "      <td>5.252820e+09</td>\n",
       "      <td>4.596471</td>\n",
       "    </tr>\n",
       "    <tr>\n",
       "      <th>1</th>\n",
       "      <td>ALIANSCSONAE ON</td>\n",
       "      <td>1.306850e+10</td>\n",
       "      <td>8.557360e+08</td>\n",
       "      <td>21.8</td>\n",
       "      <td>558.0</td>\n",
       "      <td>2.820220e+10</td>\n",
       "      <td>1.467350e+10</td>\n",
       "      <td>2.300000</td>\n",
       "    </tr>\n",
       "    <tr>\n",
       "      <th>2</th>\n",
       "      <td>ALPARGATAS PN N1</td>\n",
       "      <td>5.744550e+09</td>\n",
       "      <td>2.201080e+08</td>\n",
       "      <td>-4.3</td>\n",
       "      <td>-33.0</td>\n",
       "      <td>7.766710e+09</td>\n",
       "      <td>5.309890e+09</td>\n",
       "      <td>4.596471</td>\n",
       "    </tr>\n",
       "    <tr>\n",
       "      <th>3</th>\n",
       "      <td>AMBEV S/A ON</td>\n",
       "      <td>4.997193e+10</td>\n",
       "      <td>1.629430e+10</td>\n",
       "      <td>16.8</td>\n",
       "      <td>91.0</td>\n",
       "      <td>1.332940e+11</td>\n",
       "      <td>8.507460e+10</td>\n",
       "      <td>5.500000</td>\n",
       "    </tr>\n",
       "    <tr>\n",
       "      <th>4</th>\n",
       "      <td>AREZZO CO ON NM</td>\n",
       "      <td>7.843590e+09</td>\n",
       "      <td>4.877970e+08</td>\n",
       "      <td>13.3</td>\n",
       "      <td>333.0</td>\n",
       "      <td>5.435060e+09</td>\n",
       "      <td>2.783100e+09</td>\n",
       "      <td>2.200000</td>\n",
       "    </tr>\n",
       "  </tbody>\n",
       "</table>\n",
       "</div>"
      ],
      "text/plain": [
       "              Empresa  Valor_de_mercado      EBIT_12m   ROE    LPA  \\\n",
       "0  3R PETROLEUM ON NM      7.900300e+09  4.228010e+08   9.1  199.0   \n",
       "1     ALIANSCSONAE ON      1.306850e+10  8.557360e+08  21.8  558.0   \n",
       "2    ALPARGATAS PN N1      5.744550e+09  2.201080e+08  -4.3  -33.0   \n",
       "3        AMBEV S/A ON      4.997193e+10  1.629430e+10  16.8   91.0   \n",
       "4     AREZZO CO ON NM      7.843590e+09  4.877970e+08  13.3  333.0   \n",
       "\n",
       "          Ativo    Patrim_Liq  Div_Yield  \n",
       "0  1.867940e+10  5.252820e+09   4.596471  \n",
       "1  2.820220e+10  1.467350e+10   2.300000  \n",
       "2  7.766710e+09  5.309890e+09   4.596471  \n",
       "3  1.332940e+11  8.507460e+10   5.500000  \n",
       "4  5.435060e+09  2.783100e+09   2.200000  "
      ]
     },
     "execution_count": 10,
     "metadata": {},
     "output_type": "execute_result"
    }
   ],
   "source": [
    "df_new.head(5)"
   ]
  },
  {
   "cell_type": "markdown",
   "id": "4a38b799",
   "metadata": {},
   "source": [
    "### 1.2 Testando algumas premissas antes de começar"
   ]
  },
  {
   "cell_type": "markdown",
   "id": "90aae5bc",
   "metadata": {},
   "source": [
    "- Algumas premissas são necessárias para que um modelo de regressão linear seja válido.\n",
    "\n",
    "Primeiramente vamos testar 2 delas: \n",
    "- A relação entre as variáveis dependente e independentes precisa ser linear. Podemos testar com gráficos plotando cada para de variáveis dependente x independente\n",
    "- Vamos testar apenas a variável \"Ativo\" aqui, mas você deve realizar o procedimento para cada variável"
   ]
  },
  {
   "cell_type": "code",
   "execution_count": 11,
   "id": "d40d3df7",
   "metadata": {},
   "outputs": [
    {
     "data": {
      "text/plain": [
       "<seaborn.axisgrid.FacetGrid at 0x21bc8223e20>"
      ]
     },
     "execution_count": 11,
     "metadata": {},
     "output_type": "execute_result"
    },
    {
     "data": {
      "image/png": "[encoded data removed]",
      "text/plain": [
       "<Figure size 1200x600 with 1 Axes>"
      ]
     },
     "metadata": {},
     "output_type": "display_data"
    }
   ],
   "source": [
    "# Aparentemente existe uma relação linear, onde quanto maior o ativo, maior o valor de mercado da empresa (a relação não precisa ser perfeitamente linear)\n",
    "sns.lmplot(x='Ativo',y='Valor_de_mercado',data=df_new,aspect=2,height=6)"
   ]
  },
  {
   "cell_type": "markdown",
   "id": "deb2b9b9",
   "metadata": {},
   "source": [
    "Teste de correlação:\n",
    "- A segunda premissão é que a correlação entre as variáveis independentes precisa ser baixa, pelo menos menor que 0.7 (mais tarde utilizaremos um índice chamado VIF para testar essa mesma premissa)"
   ]
  },
  {
   "cell_type": "code",
   "execution_count": 12,
   "id": "545bdbd6",
   "metadata": {},
   "outputs": [
    {
     "data": {
      "text/plain": [
       "<Axes: >"
      ]
     },
     "execution_count": 12,
     "metadata": {},
     "output_type": "execute_result"
    },
    {
     "data": {
      "image/png": "[encoded data removed]",
      "text/plain": [
       "<Figure size 800x500 with 2 Axes>"
      ]
     },
     "metadata": {},
     "output_type": "display_data"
    }
   ],
   "source": [
    "# Novamente, aparentemente as correlações entre as variáveis independentes parecem ser baixar o suficiente\n",
    "corr = df_new.corr()\n",
    "sns.heatmap(corr, cmap = 'Wistia', annot= True)"
   ]
  },
  {
   "cell_type": "markdown",
   "id": "d5ef7f18",
   "metadata": {},
   "source": [
    "### 2. Rodando o modelo de Regressão Linear\n",
    "\n",
    "- Finalmente, vamos rodar o modelo de regressão linear.\n",
    "- Vamos utilizar o pacote sklearn para rodar o modelo.\n",
    "- Vamos também separar o nosso dataset em 2 blocos: bloco de treino e bloco de teste. Isso evita o que chamamos de overfitting, que é quando o modelo se adapta demais ao seu dataset e não consegue obter a mesma performance e datasets diferentes"
   ]
  },
  {
   "cell_type": "code",
   "execution_count": 13,
   "id": "5cba2be7",
   "metadata": {},
   "outputs": [],
   "source": [
    "from sklearn.linear_model import LinearRegression #importanto o modelo de regressão\n",
    "from sklearn.model_selection import train_test_split #importando o pacote para separar o dataset em teste e treino\n",
    "from sklearn.metrics import mean_squared_error #importando uma das métricas pra testar a eficiência do modelo: RMSE\n",
    "from sklearn.metrics import r2_score #importando outra métrica pra testar eficiência do modelo: R2\n",
    "\n",
    "\n",
    "# Esta parte só ajusta alguns parâmetros de visualização das tabelas, pra facilitar nossa vida\n",
    "pd.options.display.float_format = '{:.2f}'.format\n",
    "np.set_printoptions(suppress=True)\n",
    "pd.set_option('display.max_columns', None)\n",
    "pd.set_option('display.max_rows', None)"
   ]
  },
  {
   "cell_type": "markdown",
   "id": "9bb9252f",
   "metadata": {},
   "source": [
    "- Na ordem, o que faremos é:\n",
    "- (1) Definir as variáveis que serão utilizadas na regressão.\n",
    "- (2) Separar o dataset nos 2 blocos: teste e treino\n",
    "- (3) Definir o modelo em si e armazena-lo na variável model_lr\n",
    "- (4) Rodar o modelo e gerar os valores previstos de acordo com o modelo para cada uma das nossas empresas"
   ]
  },
  {
   "cell_type": "code",
   "execution_count": 14,
   "id": "9a54f251",
   "metadata": {},
   "outputs": [],
   "source": [
    "features = ['EBIT_12m','ROE','LPA','Ativo','Patrim_Liq','Div_Yield']\n",
    "target = ['Valor_de_mercado']"
   ]
  },
  {
   "cell_type": "code",
   "execution_count": 15,
   "id": "f11d0149",
   "metadata": {},
   "outputs": [],
   "source": [
    "X = df_new[features].values.reshape(-1,6)\n",
    "y = df_new[target].values.reshape(-1,1)\n",
    "X_train, X_test, y_train, y_test = train_test_split(X,y,test_size=0.4, random_state=0)"
   ]
  },
  {
   "cell_type": "code",
   "execution_count": 16,
   "id": "46c0dcd3",
   "metadata": {},
   "outputs": [],
   "source": [
    "model_lr = LinearRegression()"
   ]
  },
  {
   "cell_type": "code",
   "execution_count": 17,
   "id": "4c03c6da",
   "metadata": {},
   "outputs": [],
   "source": [
    "model_lr.fit(X_train,y_train)\n",
    "y_pred = model_lr.predict(X)"
   ]
  },
  {
   "cell_type": "markdown",
   "id": "4679a46d",
   "metadata": {},
   "source": [
    "### 3. Resultado do Modelo\n",
    "- Estamos interessados nos coeficientes da regressão. Vou utilizar aqui os coeficientes gerados pelo pacote sklearn.\n",
    "- Para a maioria dos casos, isso basta, mas irei avançar e utilizar outro pacote onde é possível ver o nível de significância de cada variável"
   ]
  },
  {
   "cell_type": "code",
   "execution_count": 18,
   "id": "bbcd159b",
   "metadata": {},
   "outputs": [
    {
     "name": "stdout",
     "output_type": "stream",
     "text": [
      "Intercept: [1.11062031e+10]\n",
      "Coefficient(s): [[ 5.26107631e-01  8.34000060e+08 -2.02832298e+07  4.63480949e-02\n",
      "   7.75141180e-01 -2.12556023e+09]]\n"
     ]
    }
   ],
   "source": [
    "print(\"Intercept:\", model_lr.intercept_)\n",
    "print(\"Coefficient(s):\", model_lr.coef_)"
   ]
  },
  {
   "cell_type": "markdown",
   "id": "cbd270b9",
   "metadata": {},
   "source": [
    "- O pacote pingouin não é o meu preferido, mas com ele nós podemos ver facilmente o P-VALUE de cada variável do modelo.\n",
    "- Em resumo, o p-value é um teste estatístico de significância de uma variável, e a forma mais comum de se interpretar é que valores abaixo 0.1 indicam que a variável tem valor preditivo significativo no modelo\n",
    "- No nosso caso, as variáveis Ativo e EBIT não teriam valor preditivo significativo, por terem um p-value acima de 0.1\n",
    "- De qualquer forma, manteremos essas variáveis no modelo já que estamos interessados apenas no valor acadêmico deste"
   ]
  },
  {
   "cell_type": "code",
   "execution_count": 19,
   "id": "43ee44ae",
   "metadata": {},
   "outputs": [
    {
     "data": {
      "text/html": [
       "<div>\n",
       "<style scoped>\n",
       "    .dataframe tbody tr th:only-of-type {\n",
       "        vertical-align: middle;\n",
       "    }\n",
       "\n",
       "    .dataframe tbody tr th {\n",
       "        vertical-align: top;\n",
       "    }\n",
       "\n",
       "    .dataframe thead th {\n",
       "        text-align: right;\n",
       "    }\n",
       "</style>\n",
       "<table border=\"1\" class=\"dataframe\">\n",
       "  <thead>\n",
       "    <tr style=\"text-align: right;\">\n",
       "      <th></th>\n",
       "      <th>names</th>\n",
       "      <th>coef</th>\n",
       "      <th>se</th>\n",
       "      <th>T</th>\n",
       "      <th>pval</th>\n",
       "      <th>r2</th>\n",
       "      <th>adj_r2</th>\n",
       "      <th>CI[2.5%]</th>\n",
       "      <th>CI[97.5%]</th>\n",
       "    </tr>\n",
       "  </thead>\n",
       "  <tbody>\n",
       "    <tr>\n",
       "      <th>0</th>\n",
       "      <td>Intercept</td>\n",
       "      <td>11106214055.91</td>\n",
       "      <td>0.00</td>\n",
       "      <td>152880602960548528128.00</td>\n",
       "      <td>0.00</td>\n",
       "      <td>0.78</td>\n",
       "      <td>0.75</td>\n",
       "      <td>11106214055.91</td>\n",
       "      <td>11106214055.91</td>\n",
       "    </tr>\n",
       "    <tr>\n",
       "      <th>1</th>\n",
       "      <td>EBIT_12m</td>\n",
       "      <td>0.53</td>\n",
       "      <td>0.83</td>\n",
       "      <td>0.63</td>\n",
       "      <td>0.53</td>\n",
       "      <td>0.78</td>\n",
       "      <td>0.75</td>\n",
       "      <td>-1.15</td>\n",
       "      <td>2.20</td>\n",
       "    </tr>\n",
       "    <tr>\n",
       "      <th>2</th>\n",
       "      <td>ROE</td>\n",
       "      <td>833999802.80</td>\n",
       "      <td>0.00</td>\n",
       "      <td>363263063247708288.00</td>\n",
       "      <td>0.00</td>\n",
       "      <td>0.78</td>\n",
       "      <td>0.75</td>\n",
       "      <td>833999802.80</td>\n",
       "      <td>833999802.80</td>\n",
       "    </tr>\n",
       "    <tr>\n",
       "      <th>3</th>\n",
       "      <td>LPA</td>\n",
       "      <td>-20283228.65</td>\n",
       "      <td>0.00</td>\n",
       "      <td>-930056212321533.38</td>\n",
       "      <td>0.00</td>\n",
       "      <td>0.78</td>\n",
       "      <td>0.75</td>\n",
       "      <td>-20283228.65</td>\n",
       "      <td>-20283228.65</td>\n",
       "    </tr>\n",
       "    <tr>\n",
       "      <th>4</th>\n",
       "      <td>Ativo</td>\n",
       "      <td>0.05</td>\n",
       "      <td>0.05</td>\n",
       "      <td>1.00</td>\n",
       "      <td>0.32</td>\n",
       "      <td>0.78</td>\n",
       "      <td>0.75</td>\n",
       "      <td>-0.05</td>\n",
       "      <td>0.14</td>\n",
       "    </tr>\n",
       "    <tr>\n",
       "      <th>5</th>\n",
       "      <td>Patrim_Liq</td>\n",
       "      <td>0.78</td>\n",
       "      <td>0.09</td>\n",
       "      <td>8.36</td>\n",
       "      <td>0.00</td>\n",
       "      <td>0.78</td>\n",
       "      <td>0.75</td>\n",
       "      <td>0.59</td>\n",
       "      <td>0.96</td>\n",
       "    </tr>\n",
       "    <tr>\n",
       "      <th>6</th>\n",
       "      <td>Div_Yield</td>\n",
       "      <td>-2125560229.81</td>\n",
       "      <td>0.00</td>\n",
       "      <td>-4753525766951019520.00</td>\n",
       "      <td>0.00</td>\n",
       "      <td>0.78</td>\n",
       "      <td>0.75</td>\n",
       "      <td>-2125560229.81</td>\n",
       "      <td>-2125560229.81</td>\n",
       "    </tr>\n",
       "  </tbody>\n",
       "</table>\n",
       "</div>"
      ],
      "text/plain": [
       "        names           coef   se                        T  pval   r2  adj_r2  \\\n",
       "0   Intercept 11106214055.91 0.00 152880602960548528128.00  0.00 0.78    0.75   \n",
       "1    EBIT_12m           0.53 0.83                     0.63  0.53 0.78    0.75   \n",
       "2         ROE   833999802.80 0.00    363263063247708288.00  0.00 0.78    0.75   \n",
       "3         LPA   -20283228.65 0.00      -930056212321533.38  0.00 0.78    0.75   \n",
       "4       Ativo           0.05 0.05                     1.00  0.32 0.78    0.75   \n",
       "5  Patrim_Liq           0.78 0.09                     8.36  0.00 0.78    0.75   \n",
       "6   Div_Yield -2125560229.81 0.00  -4753525766951019520.00  0.00 0.78    0.75   \n",
       "\n",
       "        CI[2.5%]      CI[97.5%]  \n",
       "0 11106214055.91 11106214055.91  \n",
       "1          -1.15           2.20  \n",
       "2   833999802.80   833999802.80  \n",
       "3   -20283228.65   -20283228.65  \n",
       "4          -0.05           0.14  \n",
       "5           0.59           0.96  \n",
       "6 -2125560229.81 -2125560229.81  "
      ]
     },
     "execution_count": 19,
     "metadata": {},
     "output_type": "execute_result"
    }
   ],
   "source": [
    "import pingouin as pg\n",
    "X = df_new.drop(['Valor_de_mercado','Empresa'],axis=1)\n",
    "y = df_new['Valor_de_mercado']\n",
    "X_train, X_test, y_train, y_test = train_test_split(X,y,test_size=0.4,random_state=0)\n",
    "lm = pg.linear_regression(X_train, y_train)\n",
    "lm"
   ]
  },
  {
   "cell_type": "markdown",
   "id": "c607afb7",
   "metadata": {},
   "source": [
    "## 4. Testando o modelo\n",
    "- Para testar o modelo vamos utilizar 2 métricas, o RMSE e o R2\n",
    "- O RMSE nos informa a média da soma dos erros quadrados do modelo. Esta métrica só é verdadeiramente útil quando comparada com o RMSE de outros modelos. Em uma aplicação real, diversos modelos diferentes são rodados e então seus RMSE são comparados em busca do modelo que apresenta a menor média dos erros\n",
    "- O R2 (r-quadrado) nos informa a porcentagem da variação nos resultados que é explicada pelo modelo. Em termos gerais, um R2 de 70% nos informa que o modelo é capaz de capturar 70% da variação daquilo que queremos prever."
   ]
  },
  {
   "cell_type": "markdown",
   "id": "05031397",
   "metadata": {},
   "source": [
    "\n",
    "### 3.1 Testando o modelo: RMSE\n",
    "\"Soma dos erros\" (ou média da soma dos erros ao quadrado)\n",
    "- Este valor só faz sentido se comparado com RMSE de outros modelos de previsão do valor de mercado da empresa."
   ]
  },
  {
   "cell_type": "code",
   "execution_count": 20,
   "id": "f821a24a",
   "metadata": {},
   "outputs": [
    {
     "name": "stdout",
     "output_type": "stream",
     "text": [
      "rmse = 20154598780.75\n"
     ]
    }
   ],
   "source": [
    "rmse = np.sqrt(mean_squared_error(y,y_pred))\n",
    "print(f\"rmse = {rmse:.2f}\")"
   ]
  },
  {
   "cell_type": "markdown",
   "id": "d9587442",
   "metadata": {},
   "source": [
    "\n",
    "### 3.2 Testando o modelo: R2\n",
    "Qual porcentagem da variação é explicada pelo modelo\n",
    "- No nosso caso, o modelo captura 68% da variação na variável \"valor de mercado\", o que é considerado um valor bom."
   ]
  },
  {
   "cell_type": "code",
   "execution_count": 21,
   "id": "6fa84218",
   "metadata": {},
   "outputs": [
    {
     "name": "stdout",
     "output_type": "stream",
     "text": [
      "R2 = 0.68\n"
     ]
    }
   ],
   "source": [
    "r2 = r2_score(y,y_pred)\n",
    "print(f\"R2 = {r2:.2f}\")"
   ]
  },
  {
   "cell_type": "markdown",
   "id": "3d6fc5d9",
   "metadata": {},
   "source": [
    "### 4. Nossa primeira previsão: Valor de mercado da MOVIDA\n",
    "- Vamos finalmente utilizar o modelo para prever o valor de mercado de um empresa que NÃO está no nosso dataset.\n",
    "- Vamos utilizar o caso da empresa MOVIDA, empresa de aluguel de carros que não faz parte do índice IBOV"
   ]
  },
  {
   "cell_type": "code",
   "execution_count": 22,
   "id": "f080602b",
   "metadata": {
    "scrolled": true
   },
   "outputs": [
    {
     "name": "stdout",
     "output_type": "stream",
     "text": [
      "O valor da firma da MOVIDA é de: 11572761276.58\n"
     ]
    }
   ],
   "source": [
    "# Aqui nós passamos os valores do EBIT, ROE, LPA, Ativo, PL e Div. Yield, nesta ordem, na função predict\n",
    "\n",
    "prediction = model_lr.predict(np.array([[2387900000,3.7,0.32,21069900000,3072100000,3.4]]))\n",
    "print(f\"O valor da firma da MOVIDA é de: {np.squeeze(prediction):.2f}\")"
   ]
  },
  {
   "cell_type": "markdown",
   "id": "1ba23d18",
   "metadata": {},
   "source": [
    "- O valor previsto da MOVIDA foi de cerca de 11 Bilhoes de reais, enquanto seu valor de mercado real, no momento que realizei essa consulta é de cerca 6 Bilhoes de reais.\n",
    "- Para um modelo amador, feito com os dados mais simples possíveis, e de forma puramente acadêmica, foi um resultado até que surpreendente.\n",
    "- Isso mostra o poder que a regressão linear tem para previsões de variáveis númericas e contínuas"
   ]
  },
  {
   "cell_type": "markdown",
   "id": "7f5dc252",
   "metadata": {},
   "source": [
    "### 5. Mais algumas premissas:\n",
    "\n",
    "### 5.1 conferindo a normalidade dos erros\n",
    "- Essa é mais uma premissa importante, que deixei pro final pois precisa do modelo pronto.\n",
    "- Os erros da regressão linear precisam seguir uma distribuição normal, com média 0 (ou razoavelmente próximo de zero).\n",
    "- Vamos testar isso fazendo uma histograma dos erros.\n",
    "- Nosso modelo passou no teste!"
   ]
  },
  {
   "cell_type": "code",
   "execution_count": 23,
   "id": "19b6adad",
   "metadata": {},
   "outputs": [
    {
     "data": {
      "image/png": "[encoded data removed]",
      "text/plain": [
       "<Figure size 800x600 with 1 Axes>"
      ]
     },
     "metadata": {},
     "output_type": "display_data"
    }
   ],
   "source": [
    "y = df_new[target].values.reshape(-1,1)\n",
    "residuals = y - y_pred\n",
    "plt.figure(figsize=(8, 6))\n",
    "plt.hist(residuals, bins=30, color='blue', alpha=0.6)\n",
    "plt.axvline(0, color='red', linestyle='--', lw=2)\n",
    "plt.title('Histogram of Residuals')\n",
    "plt.xlabel('Residuals (Errors)')\n",
    "plt.ylabel('Frequency')\n",
    "plt.grid(True)\n",
    "plt.show()"
   ]
  },
  {
   "cell_type": "markdown",
   "id": "2a3ce66d",
   "metadata": {},
   "source": [
    "### 5.2 conferindo (novamente) a correlação entre as variáveis independentes (VIF index)\n",
    "- Com modelo pronto, uma métrica que podemos utilizar para testar a correlação entre as variáveis independentes é o VIF.\n",
    "- Um VIF abaixo de 5 nos dá uma segurança que não temos problemas de correlação.\n",
    "- Um VIF entre 5 e 15 irá demandar uma análise par-a-par das correlações, como fizemos no começo do tutorial\n",
    "- Um VIF acima de 15 nos indica que (quase) certamente temos problemas de correlação nas variáveis independentes.\n",
    "- No nosso caso, como era de se esperar, o VIF é bem pequeno."
   ]
  },
  {
   "cell_type": "code",
   "execution_count": 24,
   "id": "c16216dd",
   "metadata": {},
   "outputs": [
    {
     "data": {
      "text/plain": [
       "3.1558478718062686"
      ]
     },
     "execution_count": 24,
     "metadata": {},
     "output_type": "execute_result"
    }
   ],
   "source": [
    "# VIF\n",
    "VIF = 1/(1-r2)\n",
    "VIF"
   ]
  },
  {
   "cell_type": "markdown",
   "id": "36b8fe53",
   "metadata": {},
   "source": [
    "### Finalizamos aqui o tutorial sobre Regressão Linear aplicada ao mercado financeiro. \n",
    "\n",
    "### Este tutorial cobre todos requisitos básicos para uma regressão linear correta mas existem centenas de modificações para tornar suas regressão mais precisa e confiável. \n",
    "\n",
    "- Recomendo os livros do Wooldridge para quem quiser ir mais a fundo nos detalhes.\n",
    "- Qualquer dúvida, pode me contatar no github, linkedin ou twitter."
   ]
  }
 ],
 "metadata": {
  "kernelspec": {
   "display_name": "Python 3 (ipykernel)",
   "language": "python",
   "name": "python3"
  },
  "language_info": {
   "codemirror_mode": {
    "name": "ipython",
    "version": 3
   },
   "file_extension": ".py",
   "mimetype": "text/x-python",
   "name": "python",
   "nbconvert_exporter": "python",
   "pygments_lexer": "ipython3",
   "version": "3.10.9"
  }
 },
 "nbformat": 4,
 "nbformat_minor": 5
}
