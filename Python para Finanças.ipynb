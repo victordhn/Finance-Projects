{
 "cells": [
  {
   "cell_type": "code",
   "execution_count": 37,
   "id": "3abd162b",
   "metadata": {},
   "outputs": [],
   "source": [
    "#!pip install investpy\n",
    "#!pip install yfinance\n",
    "#!pip install quandl\n",
    "#!pip install sweetviz"
   ]
  },
  {
   "cell_type": "code",
   "execution_count": 38,
   "id": "5d165c4b",
   "metadata": {},
   "outputs": [],
   "source": [
    "import pandas as pd\n",
    "import numpy as np\n",
    "import matplotlib as plt"
   ]
  },
  {
   "cell_type": "markdown",
   "id": "b451ea9f",
   "metadata": {},
   "source": [
    "---\n",
    "### yfinance"
   ]
  },
  {
   "cell_type": "code",
   "execution_count": 22,
   "id": "c2c3bfb3",
   "metadata": {},
   "outputs": [],
   "source": [
    "import yfinance as yf"
   ]
  },
  {
   "cell_type": "code",
   "execution_count": 40,
   "id": "463979f0",
   "metadata": {},
   "outputs": [
    {
     "name": "stdout",
     "output_type": "stream",
     "text": [
      "[*********************100%***********************]  1 of 1 completed\n"
     ]
    }
   ],
   "source": [
    "msft = yf.download('MSFT',start='2022-01-01')"
   ]
  },
  {
   "cell_type": "code",
   "execution_count": 45,
   "id": "6b5cd8d9",
   "metadata": {},
   "outputs": [
    {
     "data": {
      "text/html": [
       "<div>\n",
       "<style scoped>\n",
       "    .dataframe tbody tr th:only-of-type {\n",
       "        vertical-align: middle;\n",
       "    }\n",
       "\n",
       "    .dataframe tbody tr th {\n",
       "        vertical-align: top;\n",
       "    }\n",
       "\n",
       "    .dataframe thead th {\n",
       "        text-align: right;\n",
       "    }\n",
       "</style>\n",
       "<table border=\"1\" class=\"dataframe\">\n",
       "  <thead>\n",
       "    <tr style=\"text-align: right;\">\n",
       "      <th></th>\n",
       "      <th>Open</th>\n",
       "      <th>High</th>\n",
       "      <th>Low</th>\n",
       "      <th>Close</th>\n",
       "      <th>Adj Close</th>\n",
       "      <th>Volume</th>\n",
       "    </tr>\n",
       "    <tr>\n",
       "      <th>Date</th>\n",
       "      <th></th>\n",
       "      <th></th>\n",
       "      <th></th>\n",
       "      <th></th>\n",
       "      <th></th>\n",
       "      <th></th>\n",
       "    </tr>\n",
       "  </thead>\n",
       "  <tbody>\n",
       "    <tr>\n",
       "      <th>2022-01-03</th>\n",
       "      <td>335.350006</td>\n",
       "      <td>338.000000</td>\n",
       "      <td>329.779999</td>\n",
       "      <td>334.750000</td>\n",
       "      <td>330.092285</td>\n",
       "      <td>28865100</td>\n",
       "    </tr>\n",
       "    <tr>\n",
       "      <th>2022-01-04</th>\n",
       "      <td>334.829987</td>\n",
       "      <td>335.200012</td>\n",
       "      <td>326.119995</td>\n",
       "      <td>329.010010</td>\n",
       "      <td>324.432159</td>\n",
       "      <td>32674300</td>\n",
       "    </tr>\n",
       "    <tr>\n",
       "      <th>2022-01-05</th>\n",
       "      <td>325.859985</td>\n",
       "      <td>326.070007</td>\n",
       "      <td>315.980011</td>\n",
       "      <td>316.380005</td>\n",
       "      <td>311.977875</td>\n",
       "      <td>40054300</td>\n",
       "    </tr>\n",
       "    <tr>\n",
       "      <th>2022-01-06</th>\n",
       "      <td>313.149994</td>\n",
       "      <td>318.700012</td>\n",
       "      <td>311.489990</td>\n",
       "      <td>313.880005</td>\n",
       "      <td>309.512634</td>\n",
       "      <td>39646100</td>\n",
       "    </tr>\n",
       "    <tr>\n",
       "      <th>2022-01-07</th>\n",
       "      <td>314.149994</td>\n",
       "      <td>316.500000</td>\n",
       "      <td>310.089996</td>\n",
       "      <td>314.040009</td>\n",
       "      <td>309.670410</td>\n",
       "      <td>32720000</td>\n",
       "    </tr>\n",
       "  </tbody>\n",
       "</table>\n",
       "</div>"
      ],
      "text/plain": [
       "                  Open        High         Low       Close   Adj Close  \\\n",
       "Date                                                                     \n",
       "2022-01-03  335.350006  338.000000  329.779999  334.750000  330.092285   \n",
       "2022-01-04  334.829987  335.200012  326.119995  329.010010  324.432159   \n",
       "2022-01-05  325.859985  326.070007  315.980011  316.380005  311.977875   \n",
       "2022-01-06  313.149994  318.700012  311.489990  313.880005  309.512634   \n",
       "2022-01-07  314.149994  316.500000  310.089996  314.040009  309.670410   \n",
       "\n",
       "              Volume  \n",
       "Date                  \n",
       "2022-01-03  28865100  \n",
       "2022-01-04  32674300  \n",
       "2022-01-05  40054300  \n",
       "2022-01-06  39646100  \n",
       "2022-01-07  32720000  "
      ]
     },
     "execution_count": 45,
     "metadata": {},
     "output_type": "execute_result"
    }
   ],
   "source": [
    "msft.head()"
   ]
  },
  {
   "cell_type": "code",
   "execution_count": 46,
   "id": "2902c3a4",
   "metadata": {},
   "outputs": [
    {
     "data": {
      "text/plain": [
       "pandas.core.frame.DataFrame"
      ]
     },
     "execution_count": 46,
     "metadata": {},
     "output_type": "execute_result"
    }
   ],
   "source": [
    "type(msft)"
   ]
  },
  {
   "cell_type": "code",
   "execution_count": 49,
   "id": "63d4fc45",
   "metadata": {},
   "outputs": [
    {
     "data": {
      "text/html": [
       "<div>\n",
       "<style scoped>\n",
       "    .dataframe tbody tr th:only-of-type {\n",
       "        vertical-align: middle;\n",
       "    }\n",
       "\n",
       "    .dataframe tbody tr th {\n",
       "        vertical-align: top;\n",
       "    }\n",
       "\n",
       "    .dataframe thead th {\n",
       "        text-align: right;\n",
       "    }\n",
       "</style>\n",
       "<table border=\"1\" class=\"dataframe\">\n",
       "  <thead>\n",
       "    <tr style=\"text-align: right;\">\n",
       "      <th></th>\n",
       "      <th>Open</th>\n",
       "      <th>High</th>\n",
       "      <th>Low</th>\n",
       "      <th>Close</th>\n",
       "    </tr>\n",
       "    <tr>\n",
       "      <th>Date</th>\n",
       "      <th></th>\n",
       "      <th></th>\n",
       "      <th></th>\n",
       "      <th></th>\n",
       "    </tr>\n",
       "  </thead>\n",
       "  <tbody>\n",
       "    <tr>\n",
       "      <th>2022-01-03</th>\n",
       "      <td>335.350006</td>\n",
       "      <td>338.000000</td>\n",
       "      <td>329.779999</td>\n",
       "      <td>334.750000</td>\n",
       "    </tr>\n",
       "    <tr>\n",
       "      <th>2022-01-04</th>\n",
       "      <td>334.829987</td>\n",
       "      <td>335.200012</td>\n",
       "      <td>326.119995</td>\n",
       "      <td>329.010010</td>\n",
       "    </tr>\n",
       "    <tr>\n",
       "      <th>2022-01-05</th>\n",
       "      <td>325.859985</td>\n",
       "      <td>326.070007</td>\n",
       "      <td>315.980011</td>\n",
       "      <td>316.380005</td>\n",
       "    </tr>\n",
       "    <tr>\n",
       "      <th>2022-01-06</th>\n",
       "      <td>313.149994</td>\n",
       "      <td>318.700012</td>\n",
       "      <td>311.489990</td>\n",
       "      <td>313.880005</td>\n",
       "    </tr>\n",
       "    <tr>\n",
       "      <th>2022-01-07</th>\n",
       "      <td>314.149994</td>\n",
       "      <td>316.500000</td>\n",
       "      <td>310.089996</td>\n",
       "      <td>314.040009</td>\n",
       "    </tr>\n",
       "  </tbody>\n",
       "</table>\n",
       "</div>"
      ],
      "text/plain": [
       "                  Open        High         Low       Close\n",
       "Date                                                      \n",
       "2022-01-03  335.350006  338.000000  329.779999  334.750000\n",
       "2022-01-04  334.829987  335.200012  326.119995  329.010010\n",
       "2022-01-05  325.859985  326.070007  315.980011  316.380005\n",
       "2022-01-06  313.149994  318.700012  311.489990  313.880005\n",
       "2022-01-07  314.149994  316.500000  310.089996  314.040009"
      ]
     },
     "execution_count": 49,
     "metadata": {},
     "output_type": "execute_result"
    }
   ],
   "source": [
    "msft_ohlc = msft[['Open','High','Low','Close']]\n",
    "msft_ohlc.head()"
   ]
  },
  {
   "cell_type": "code",
   "execution_count": 50,
   "id": "e643047f",
   "metadata": {},
   "outputs": [
    {
     "name": "stdout",
     "output_type": "stream",
     "text": [
      "[*********************100%***********************]  1 of 1 completed\n"
     ]
    }
   ],
   "source": [
    "abev = yf.download('ABEV3.SA',start='2022-01-01')"
   ]
  },
  {
   "cell_type": "code",
   "execution_count": 51,
   "id": "85c6eea8",
   "metadata": {},
   "outputs": [
    {
     "data": {
      "text/html": [
       "<div>\n",
       "<style scoped>\n",
       "    .dataframe tbody tr th:only-of-type {\n",
       "        vertical-align: middle;\n",
       "    }\n",
       "\n",
       "    .dataframe tbody tr th {\n",
       "        vertical-align: top;\n",
       "    }\n",
       "\n",
       "    .dataframe thead th {\n",
       "        text-align: right;\n",
       "    }\n",
       "</style>\n",
       "<table border=\"1\" class=\"dataframe\">\n",
       "  <thead>\n",
       "    <tr style=\"text-align: right;\">\n",
       "      <th></th>\n",
       "      <th>Open</th>\n",
       "      <th>High</th>\n",
       "      <th>Low</th>\n",
       "      <th>Close</th>\n",
       "    </tr>\n",
       "    <tr>\n",
       "      <th>Date</th>\n",
       "      <th></th>\n",
       "      <th></th>\n",
       "      <th></th>\n",
       "      <th></th>\n",
       "    </tr>\n",
       "  </thead>\n",
       "  <tbody>\n",
       "    <tr>\n",
       "      <th>2022-01-03</th>\n",
       "      <td>15.42</td>\n",
       "      <td>15.54</td>\n",
       "      <td>15.15</td>\n",
       "      <td>15.33</td>\n",
       "    </tr>\n",
       "    <tr>\n",
       "      <th>2022-01-04</th>\n",
       "      <td>15.32</td>\n",
       "      <td>15.40</td>\n",
       "      <td>15.04</td>\n",
       "      <td>15.31</td>\n",
       "    </tr>\n",
       "    <tr>\n",
       "      <th>2022-01-05</th>\n",
       "      <td>15.25</td>\n",
       "      <td>15.29</td>\n",
       "      <td>14.96</td>\n",
       "      <td>15.01</td>\n",
       "    </tr>\n",
       "    <tr>\n",
       "      <th>2022-01-06</th>\n",
       "      <td>15.04</td>\n",
       "      <td>15.06</td>\n",
       "      <td>14.66</td>\n",
       "      <td>14.77</td>\n",
       "    </tr>\n",
       "    <tr>\n",
       "      <th>2022-01-07</th>\n",
       "      <td>14.80</td>\n",
       "      <td>14.80</td>\n",
       "      <td>14.45</td>\n",
       "      <td>14.53</td>\n",
       "    </tr>\n",
       "  </tbody>\n",
       "</table>\n",
       "</div>"
      ],
      "text/plain": [
       "             Open   High    Low  Close\n",
       "Date                                  \n",
       "2022-01-03  15.42  15.54  15.15  15.33\n",
       "2022-01-04  15.32  15.40  15.04  15.31\n",
       "2022-01-05  15.25  15.29  14.96  15.01\n",
       "2022-01-06  15.04  15.06  14.66  14.77\n",
       "2022-01-07  14.80  14.80  14.45  14.53"
      ]
     },
     "execution_count": 51,
     "metadata": {},
     "output_type": "execute_result"
    }
   ],
   "source": [
    "abev_ohlc = abev[['Open','High','Low','Close']]\n",
    "abev_ohlc.head()"
   ]
  },
  {
   "cell_type": "markdown",
   "id": "26a3d83b",
   "metadata": {},
   "source": [
    "- exportar arquivo .csv"
   ]
  },
  {
   "cell_type": "code",
   "execution_count": 55,
   "id": "3f85a789",
   "metadata": {},
   "outputs": [],
   "source": [
    "abev_ohlc.to_csv('ambev.csv',sep=';',decimal=',')"
   ]
  },
  {
   "cell_type": "markdown",
   "id": "734d58dd",
   "metadata": {},
   "source": [
    "- ler aquivo .csv com formato OHLC"
   ]
  },
  {
   "cell_type": "code",
   "execution_count": 73,
   "id": "99ab774b",
   "metadata": {},
   "outputs": [],
   "source": [
    "ambev = pd.read_csv('ambev.csv',sep=';',decimal=',')"
   ]
  },
  {
   "cell_type": "code",
   "execution_count": 71,
   "id": "dec2f482",
   "metadata": {},
   "outputs": [
    {
     "data": {
      "text/html": [
       "<div>\n",
       "<style scoped>\n",
       "    .dataframe tbody tr th:only-of-type {\n",
       "        vertical-align: middle;\n",
       "    }\n",
       "\n",
       "    .dataframe tbody tr th {\n",
       "        vertical-align: top;\n",
       "    }\n",
       "\n",
       "    .dataframe thead th {\n",
       "        text-align: right;\n",
       "    }\n",
       "</style>\n",
       "<table border=\"1\" class=\"dataframe\">\n",
       "  <thead>\n",
       "    <tr style=\"text-align: right;\">\n",
       "      <th></th>\n",
       "      <th>Date</th>\n",
       "      <th>Open</th>\n",
       "      <th>High</th>\n",
       "      <th>Low</th>\n",
       "      <th>Close</th>\n",
       "    </tr>\n",
       "  </thead>\n",
       "  <tbody>\n",
       "    <tr>\n",
       "      <th>0</th>\n",
       "      <td>2022-01-03</td>\n",
       "      <td>15.42</td>\n",
       "      <td>15.54</td>\n",
       "      <td>15.15</td>\n",
       "      <td>15.33</td>\n",
       "    </tr>\n",
       "    <tr>\n",
       "      <th>1</th>\n",
       "      <td>2022-01-04</td>\n",
       "      <td>15.32</td>\n",
       "      <td>15.40</td>\n",
       "      <td>15.04</td>\n",
       "      <td>15.31</td>\n",
       "    </tr>\n",
       "    <tr>\n",
       "      <th>2</th>\n",
       "      <td>2022-01-05</td>\n",
       "      <td>15.25</td>\n",
       "      <td>15.29</td>\n",
       "      <td>14.96</td>\n",
       "      <td>15.01</td>\n",
       "    </tr>\n",
       "    <tr>\n",
       "      <th>3</th>\n",
       "      <td>2022-01-06</td>\n",
       "      <td>15.04</td>\n",
       "      <td>15.06</td>\n",
       "      <td>14.66</td>\n",
       "      <td>14.77</td>\n",
       "    </tr>\n",
       "    <tr>\n",
       "      <th>4</th>\n",
       "      <td>2022-01-07</td>\n",
       "      <td>14.80</td>\n",
       "      <td>14.80</td>\n",
       "      <td>14.45</td>\n",
       "      <td>14.53</td>\n",
       "    </tr>\n",
       "  </tbody>\n",
       "</table>\n",
       "</div>"
      ],
      "text/plain": [
       "         Date   Open   High    Low  Close\n",
       "0  2022-01-03  15.42  15.54  15.15  15.33\n",
       "1  2022-01-04  15.32  15.40  15.04  15.31\n",
       "2  2022-01-05  15.25  15.29  14.96  15.01\n",
       "3  2022-01-06  15.04  15.06  14.66  14.77\n",
       "4  2022-01-07  14.80  14.80  14.45  14.53"
      ]
     },
     "execution_count": 71,
     "metadata": {},
     "output_type": "execute_result"
    }
   ],
   "source": [
    "ambev.head()"
   ]
  },
  {
   "cell_type": "markdown",
   "id": "dcf73842",
   "metadata": {},
   "source": [
    "- transformar date de objeto para datetime "
   ]
  },
  {
   "cell_type": "code",
   "execution_count": 76,
   "id": "4b1e6f3f",
   "metadata": {},
   "outputs": [],
   "source": [
    "ambev['Date'] = pd.to_datetime(ambev['Date'])"
   ]
  },
  {
   "cell_type": "code",
   "execution_count": 77,
   "id": "e6034329",
   "metadata": {},
   "outputs": [
    {
     "data": {
      "text/plain": [
       "pandas.core.indexes.range.RangeIndex"
      ]
     },
     "execution_count": 77,
     "metadata": {},
     "output_type": "execute_result"
    }
   ],
   "source": [
    "type(ambev.index)"
   ]
  },
  {
   "cell_type": "code",
   "execution_count": 78,
   "id": "8c53e06b",
   "metadata": {},
   "outputs": [],
   "source": [
    "ambev.set_index('Date', inplace=True)"
   ]
  },
  {
   "cell_type": "code",
   "execution_count": 79,
   "id": "20437b63",
   "metadata": {},
   "outputs": [
    {
     "data": {
      "text/html": [
       "<div>\n",
       "<style scoped>\n",
       "    .dataframe tbody tr th:only-of-type {\n",
       "        vertical-align: middle;\n",
       "    }\n",
       "\n",
       "    .dataframe tbody tr th {\n",
       "        vertical-align: top;\n",
       "    }\n",
       "\n",
       "    .dataframe thead th {\n",
       "        text-align: right;\n",
       "    }\n",
       "</style>\n",
       "<table border=\"1\" class=\"dataframe\">\n",
       "  <thead>\n",
       "    <tr style=\"text-align: right;\">\n",
       "      <th></th>\n",
       "      <th>Open</th>\n",
       "      <th>High</th>\n",
       "      <th>Low</th>\n",
       "      <th>Close</th>\n",
       "    </tr>\n",
       "    <tr>\n",
       "      <th>Date</th>\n",
       "      <th></th>\n",
       "      <th></th>\n",
       "      <th></th>\n",
       "      <th></th>\n",
       "    </tr>\n",
       "  </thead>\n",
       "  <tbody>\n",
       "    <tr>\n",
       "      <th>2022-01-03</th>\n",
       "      <td>15.42</td>\n",
       "      <td>15.54</td>\n",
       "      <td>15.15</td>\n",
       "      <td>15.33</td>\n",
       "    </tr>\n",
       "    <tr>\n",
       "      <th>2022-01-04</th>\n",
       "      <td>15.32</td>\n",
       "      <td>15.40</td>\n",
       "      <td>15.04</td>\n",
       "      <td>15.31</td>\n",
       "    </tr>\n",
       "    <tr>\n",
       "      <th>2022-01-05</th>\n",
       "      <td>15.25</td>\n",
       "      <td>15.29</td>\n",
       "      <td>14.96</td>\n",
       "      <td>15.01</td>\n",
       "    </tr>\n",
       "    <tr>\n",
       "      <th>2022-01-06</th>\n",
       "      <td>15.04</td>\n",
       "      <td>15.06</td>\n",
       "      <td>14.66</td>\n",
       "      <td>14.77</td>\n",
       "    </tr>\n",
       "    <tr>\n",
       "      <th>2022-01-07</th>\n",
       "      <td>14.80</td>\n",
       "      <td>14.80</td>\n",
       "      <td>14.45</td>\n",
       "      <td>14.53</td>\n",
       "    </tr>\n",
       "  </tbody>\n",
       "</table>\n",
       "</div>"
      ],
      "text/plain": [
       "             Open   High    Low  Close\n",
       "Date                                  \n",
       "2022-01-03  15.42  15.54  15.15  15.33\n",
       "2022-01-04  15.32  15.40  15.04  15.31\n",
       "2022-01-05  15.25  15.29  14.96  15.01\n",
       "2022-01-06  15.04  15.06  14.66  14.77\n",
       "2022-01-07  14.80  14.80  14.45  14.53"
      ]
     },
     "execution_count": 79,
     "metadata": {},
     "output_type": "execute_result"
    }
   ],
   "source": [
    "ambev.head()"
   ]
  },
  {
   "cell_type": "code",
   "execution_count": 80,
   "id": "07bd022d",
   "metadata": {},
   "outputs": [
    {
     "data": {
      "text/plain": [
       "<Axes: xlabel='Date'>"
      ]
     },
     "execution_count": 80,
     "metadata": {},
     "output_type": "execute_result"
    },
    {
     "data": {
      "image/png": "[encoded data removed]",
      "text/plain": [
       "<Figure size 640x480 with 1 Axes>"
      ]
     },
     "metadata": {},
     "output_type": "display_data"
    }
   ],
   "source": [
    "ambev.plot()"
   ]
  },
  {
   "cell_type": "code",
   "execution_count": 81,
   "id": "56ead08f",
   "metadata": {},
   "outputs": [
    {
     "data": {
      "text/plain": [
       "pandas.core.indexes.datetimes.DatetimeIndex"
      ]
     },
     "execution_count": 81,
     "metadata": {},
     "output_type": "execute_result"
    }
   ],
   "source": [
    "type(ambev.index)"
   ]
  },
  {
   "cell_type": "markdown",
   "id": "09fabd54",
   "metadata": {},
   "source": [
    "- Merge de dados no formato OHLC"
   ]
  },
  {
   "cell_type": "code",
   "execution_count": 82,
   "id": "af664762",
   "metadata": {},
   "outputs": [
    {
     "name": "stdout",
     "output_type": "stream",
     "text": [
      "[*********************100%***********************]  1 of 1 completed\n",
      "[*********************100%***********************]  1 of 1 completed\n"
     ]
    }
   ],
   "source": [
    "petr4 = yf.download('PETR4.SA',start='2022-07-01',end='2023-07-01')\n",
    "lren3 = yf.download('LREN3.SA',start='2022-07-01',end='2023-07-01')"
   ]
  },
  {
   "cell_type": "code",
   "execution_count": 83,
   "id": "031f0d96",
   "metadata": {},
   "outputs": [],
   "source": [
    "petr4.rename(columns={'Adj Close':'PETR4'}, inplace=True)"
   ]
  },
  {
   "cell_type": "code",
   "execution_count": 84,
   "id": "bc09a9f3",
   "metadata": {},
   "outputs": [],
   "source": [
    "lren3.rename(columns={'Adj Close':'LREN3'}, inplace=True)"
   ]
  },
  {
   "cell_type": "code",
   "execution_count": 85,
   "id": "fab5e4d3",
   "metadata": {},
   "outputs": [],
   "source": [
    "df = pd.merge(lren3,petr4, how='inner', on='Date')"
   ]
  },
  {
   "cell_type": "code",
   "execution_count": 86,
   "id": "2ddf963c",
   "metadata": {},
   "outputs": [],
   "source": [
    "new_df = df[['LREN3','PETR4']]"
   ]
  },
  {
   "cell_type": "code",
   "execution_count": 87,
   "id": "76ab4b9f",
   "metadata": {},
   "outputs": [
    {
     "data": {
      "text/html": [
       "<div>\n",
       "<style scoped>\n",
       "    .dataframe tbody tr th:only-of-type {\n",
       "        vertical-align: middle;\n",
       "    }\n",
       "\n",
       "    .dataframe tbody tr th {\n",
       "        vertical-align: top;\n",
       "    }\n",
       "\n",
       "    .dataframe thead th {\n",
       "        text-align: right;\n",
       "    }\n",
       "</style>\n",
       "<table border=\"1\" class=\"dataframe\">\n",
       "  <thead>\n",
       "    <tr style=\"text-align: right;\">\n",
       "      <th></th>\n",
       "      <th>LREN3</th>\n",
       "      <th>PETR4</th>\n",
       "    </tr>\n",
       "    <tr>\n",
       "      <th>Date</th>\n",
       "      <th></th>\n",
       "      <th></th>\n",
       "    </tr>\n",
       "  </thead>\n",
       "  <tbody>\n",
       "    <tr>\n",
       "      <th>2022-07-01</th>\n",
       "      <td>22.323061</td>\n",
       "      <td>16.979118</td>\n",
       "    </tr>\n",
       "    <tr>\n",
       "      <th>2022-07-04</th>\n",
       "      <td>22.255415</td>\n",
       "      <td>17.342148</td>\n",
       "    </tr>\n",
       "    <tr>\n",
       "      <th>2022-07-05</th>\n",
       "      <td>22.313396</td>\n",
       "      <td>16.681551</td>\n",
       "    </tr>\n",
       "    <tr>\n",
       "      <th>2022-07-06</th>\n",
       "      <td>23.057499</td>\n",
       "      <td>16.467304</td>\n",
       "    </tr>\n",
       "    <tr>\n",
       "      <th>2022-07-07</th>\n",
       "      <td>23.917564</td>\n",
       "      <td>16.949362</td>\n",
       "    </tr>\n",
       "  </tbody>\n",
       "</table>\n",
       "</div>"
      ],
      "text/plain": [
       "                LREN3      PETR4\n",
       "Date                            \n",
       "2022-07-01  22.323061  16.979118\n",
       "2022-07-04  22.255415  17.342148\n",
       "2022-07-05  22.313396  16.681551\n",
       "2022-07-06  23.057499  16.467304\n",
       "2022-07-07  23.917564  16.949362"
      ]
     },
     "execution_count": 87,
     "metadata": {},
     "output_type": "execute_result"
    }
   ],
   "source": [
    "new_df.head()"
   ]
  },
  {
   "cell_type": "markdown",
   "id": "9be29756",
   "metadata": {},
   "source": [
    "---\n",
    "### sweetviz"
   ]
  },
  {
   "cell_type": "code",
   "execution_count": 32,
   "id": "8d110976",
   "metadata": {},
   "outputs": [],
   "source": [
    "import sweetviz as sv"
   ]
  },
  {
   "cell_type": "code",
   "execution_count": 35,
   "id": "4b18b0b6",
   "metadata": {},
   "outputs": [
    {
     "name": "stderr",
     "output_type": "stream",
     "text": [
      "C:\\Users\\Victor\\AppData\\Roaming\\Python\\Python310\\site-packages\\sweetviz\\dataframe_report.py:74: FutureWarning: iteritems is deprecated and will be removed in a future version. Use .items instead.\n",
      "  all_source_names = [cur_name for cur_name, cur_series in source_df.iteritems()]\n",
      "C:\\Users\\Victor\\AppData\\Roaming\\Python\\Python310\\site-packages\\sweetviz\\dataframe_report.py:109: FutureWarning: iteritems is deprecated and will be removed in a future version. Use .items instead.\n",
      "  filtered_series_names_in_source = [cur_name for cur_name, cur_series in source_df.iteritems()\n"
     ]
    },
    {
     "data": {
      "application/vnd.jupyter.widget-view+json": {
       "model_id": "4b3da38f42ee47e4b0746fd309c1628d",
       "version_major": 2,
       "version_minor": 0
      },
      "text/plain": [
       "                                             |          | [  0%]   00:00 -> (? left)"
      ]
     },
     "metadata": {},
     "output_type": "display_data"
    },
    {
     "name": "stderr",
     "output_type": "stream",
     "text": [
      "C:\\Users\\Victor\\AppData\\Roaming\\Python\\Python310\\site-packages\\sweetviz\\series_analyzer_numeric.py:25: FutureWarning: The 'mad' method is deprecated and will be removed in a future version. To compute the same result, you may do `(df - df.mean()).abs().mean()`.\n",
      "  stats[\"mad\"] = series.mad()\n",
      "C:\\Users\\Victor\\AppData\\Roaming\\Python\\Python310\\site-packages\\sweetviz\\series_analyzer_numeric.py:25: FutureWarning: The 'mad' method is deprecated and will be removed in a future version. To compute the same result, you may do `(df - df.mean()).abs().mean()`.\n",
      "  stats[\"mad\"] = series.mad()\n"
     ]
    }
   ],
   "source": [
    "relatorio = sv.analyze(new_df)"
   ]
  },
  {
   "cell_type": "code",
   "execution_count": 36,
   "id": "57c5a9fe",
   "metadata": {},
   "outputs": [
    {
     "name": "stdout",
     "output_type": "stream",
     "text": [
      "Report Relatorio_PETR4_LREN3.html was generated! NOTEBOOK/COLAB USERS: the web browser MAY not pop up, regardless, the report IS saved in your notebook/colab files.\n"
     ]
    }
   ],
   "source": [
    "relatorio.show_html('Relatorio_PETR4_LREN3.html')"
   ]
  },
  {
   "cell_type": "code",
   "execution_count": null,
   "id": "f88c999f",
   "metadata": {},
   "outputs": [],
   "source": []
  },
  {
   "cell_type": "code",
   "execution_count": null,
   "id": "277187a2",
   "metadata": {},
   "outputs": [],
   "source": []
  },
  {
   "cell_type": "code",
   "execution_count": null,
   "id": "936a8d26",
   "metadata": {},
   "outputs": [],
   "source": []
  },
  {
   "cell_type": "code",
   "execution_count": null,
   "id": "80761ec7",
   "metadata": {},
   "outputs": [],
   "source": []
  },
  {
   "cell_type": "code",
   "execution_count": null,
   "id": "4fcdc5f9",
   "metadata": {},
   "outputs": [],
   "source": []
  },
  {
   "cell_type": "code",
   "execution_count": null,
   "id": "2ec994e8",
   "metadata": {},
   "outputs": [],
   "source": []
  },
  {
   "cell_type": "code",
   "execution_count": null,
   "id": "c1c21993",
   "metadata": {},
   "outputs": [],
   "source": []
  },
  {
   "cell_type": "code",
   "execution_count": null,
   "id": "14eb92d2",
   "metadata": {},
   "outputs": [],
   "source": []
  }
 ],
 "metadata": {
  "kernelspec": {
   "display_name": "Python 3 (ipykernel)",
   "language": "python",
   "name": "python3"
  },
  "language_info": {
   "codemirror_mode": {
    "name": "ipython",
    "version": 3
   },
   "file_extension": ".py",
   "mimetype": "text/x-python",
   "name": "python",
   "nbconvert_exporter": "python",
   "pygments_lexer": "ipython3",
   "version": "3.10.9"
  }
 },
 "nbformat": 4,
 "nbformat_minor": 5
}
