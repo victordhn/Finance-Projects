{
 "cells": [
  {
   "cell_type": "markdown",
   "id": "ed594341-4b07-4ce6-9e8c-5e320e25a785",
   "metadata": {},
   "source": [
    "# Análise de Crédito com Redes Neurais\n",
    "#### Tutorial por: Victor Dahan\n",
    "- Linkedin: https://www.linkedin.com/in/victordhn/\n",
    "\n",
    "**Objetivo:** Este tutorial tem como objetivo demonstrar a aplicação de redes neurais na previsão de riscos de crédito. A ideia é não só alcançar uma alta precisão no modelo, mas também garantir que ele generalize bem para diferentes conjuntos de dados de operações de crédito.\n",
    "\n",
    "**Modelo Utilizado:** O modelo utilizado é o de Redes Neurais, implementado com TensorFlow/Keras, para prever casos de alto risco de crédito. Redes neurais são técnicas de previsão modernas que normalmente brilham quando temos muitos dados para processar. Mesmo com um conjunto de dados mais limitado, elas podem ser tão eficazes quanto métodos clássicos de classificação, como regressão logística ou SVM.\n",
    "\n",
    "___"
   ]
  },
  {
   "cell_type": "markdown",
   "id": "51790c55-b4d4-4727-a20b-2c26368ba112",
   "metadata": {},
   "source": [
    "#### 1. Breve Introdução sobre Redes Neurais"
   ]
  },
  {
   "cell_type": "markdown",
   "id": "f05255f7-d5c9-494e-ac7f-c7255d49ac0a",
   "metadata": {},
   "source": [
    "___\n",
    "#### 2. Dataset \n",
    "- O dataset utilizado é um clássico no Kaggle: german_data_credito (fonte: https://www.kaggle.com/datasets/uciml/german-credit)\n",
    "- As variáveis do modelo são: idade, sexo, cargo, moradia, conta poupança, conta corrente, tamanho do crédito, maturidade, motivação.\n",
    "- A variável que queremos prevemos é o risco de crédito e está codificada como Bad_Risk: 1 = alto risco; 0 = baixo risco.\n",
    "\n",
    "Importante:\n",
    "- **Neste tutorial os dados já estão limpos e pré-processados** (tenho tutorial completo da limpeza dos dados neste notebook - https://github.com/victordhn/Finance-Projects/blob/master/Credit%20Analysis/An%C3%A1lise%20de%20Cr%C3%A9dito%20SVM.ipynb)\n",
    "- O dataset limpo está postado no Github e no Kaggle (credit_data_clean.csv)"
   ]
  },
  {
   "cell_type": "code",
   "execution_count": 4,
   "id": "1ef7541a-4efc-4b3d-9af2-eef7487f5964",
   "metadata": {},
   "outputs": [],
   "source": [
    "import pandas as pd\n",
    "df_clean = pd.read_csv('./credit_data_clean.csv')"
   ]
  },
  {
   "cell_type": "code",
   "execution_count": 5,
   "id": "18cf2629-cb74-49c7-9efb-6f667b208e97",
   "metadata": {},
   "outputs": [
    {
     "data": {
      "text/html": [
       "<div>\n",
       "<style scoped>\n",
       "    .dataframe tbody tr th:only-of-type {\n",
       "        vertical-align: middle;\n",
       "    }\n",
       "\n",
       "    .dataframe tbody tr th {\n",
       "        vertical-align: top;\n",
       "    }\n",
       "\n",
       "    .dataframe thead th {\n",
       "        text-align: right;\n",
       "    }\n",
       "</style>\n",
       "<table border=\"1\" class=\"dataframe\">\n",
       "  <thead>\n",
       "    <tr style=\"text-align: right;\">\n",
       "      <th></th>\n",
       "      <th>Age</th>\n",
       "      <th>Credit amount</th>\n",
       "      <th>Duration</th>\n",
       "      <th>Sex_female</th>\n",
       "      <th>Sex_male</th>\n",
       "      <th>Housing_free</th>\n",
       "      <th>Housing_own</th>\n",
       "      <th>Housing_rent</th>\n",
       "      <th>Purpose_business</th>\n",
       "      <th>Purpose_car</th>\n",
       "      <th>Purpose_domestic appliances</th>\n",
       "      <th>Purpose_education</th>\n",
       "      <th>Purpose_furniture/equipment</th>\n",
       "      <th>Purpose_radio/TV</th>\n",
       "      <th>Purpose_repairs</th>\n",
       "      <th>Purpose_vacation/others</th>\n",
       "      <th>Savings_Acc</th>\n",
       "      <th>Checking_Acc</th>\n",
       "      <th>Job_Skill</th>\n",
       "      <th>Bad_Risk</th>\n",
       "    </tr>\n",
       "  </thead>\n",
       "  <tbody>\n",
       "    <tr>\n",
       "      <th>0</th>\n",
       "      <td>-1.094447</td>\n",
       "      <td>0.913171</td>\n",
       "      <td>2.139356</td>\n",
       "      <td>True</td>\n",
       "      <td>False</td>\n",
       "      <td>False</td>\n",
       "      <td>True</td>\n",
       "      <td>False</td>\n",
       "      <td>False</td>\n",
       "      <td>False</td>\n",
       "      <td>False</td>\n",
       "      <td>False</td>\n",
       "      <td>False</td>\n",
       "      <td>True</td>\n",
       "      <td>False</td>\n",
       "      <td>False</td>\n",
       "      <td>0</td>\n",
       "      <td>1</td>\n",
       "      <td>2</td>\n",
       "      <td>1</td>\n",
       "    </tr>\n",
       "    <tr>\n",
       "      <th>1</th>\n",
       "      <td>0.858575</td>\n",
       "      <td>1.573037</td>\n",
       "      <td>1.657897</td>\n",
       "      <td>False</td>\n",
       "      <td>True</td>\n",
       "      <td>True</td>\n",
       "      <td>False</td>\n",
       "      <td>False</td>\n",
       "      <td>False</td>\n",
       "      <td>False</td>\n",
       "      <td>False</td>\n",
       "      <td>False</td>\n",
       "      <td>True</td>\n",
       "      <td>False</td>\n",
       "      <td>False</td>\n",
       "      <td>False</td>\n",
       "      <td>0</td>\n",
       "      <td>0</td>\n",
       "      <td>2</td>\n",
       "      <td>0</td>\n",
       "    </tr>\n",
       "    <tr>\n",
       "      <th>2</th>\n",
       "      <td>1.537887</td>\n",
       "      <td>0.543768</td>\n",
       "      <td>0.213521</td>\n",
       "      <td>False</td>\n",
       "      <td>True</td>\n",
       "      <td>True</td>\n",
       "      <td>False</td>\n",
       "      <td>False</td>\n",
       "      <td>False</td>\n",
       "      <td>True</td>\n",
       "      <td>False</td>\n",
       "      <td>False</td>\n",
       "      <td>False</td>\n",
       "      <td>False</td>\n",
       "      <td>False</td>\n",
       "      <td>False</td>\n",
       "      <td>0</td>\n",
       "      <td>0</td>\n",
       "      <td>2</td>\n",
       "      <td>1</td>\n",
       "    </tr>\n",
       "    <tr>\n",
       "      <th>3</th>\n",
       "      <td>0.009435</td>\n",
       "      <td>1.253868</td>\n",
       "      <td>1.176438</td>\n",
       "      <td>False</td>\n",
       "      <td>True</td>\n",
       "      <td>False</td>\n",
       "      <td>False</td>\n",
       "      <td>True</td>\n",
       "      <td>False</td>\n",
       "      <td>True</td>\n",
       "      <td>False</td>\n",
       "      <td>False</td>\n",
       "      <td>False</td>\n",
       "      <td>False</td>\n",
       "      <td>False</td>\n",
       "      <td>False</td>\n",
       "      <td>0</td>\n",
       "      <td>1</td>\n",
       "      <td>3</td>\n",
       "      <td>0</td>\n",
       "    </tr>\n",
       "    <tr>\n",
       "      <th>4</th>\n",
       "      <td>-0.584963</td>\n",
       "      <td>0.668155</td>\n",
       "      <td>0.694979</td>\n",
       "      <td>False</td>\n",
       "      <td>True</td>\n",
       "      <td>False</td>\n",
       "      <td>True</td>\n",
       "      <td>False</td>\n",
       "      <td>False</td>\n",
       "      <td>True</td>\n",
       "      <td>False</td>\n",
       "      <td>False</td>\n",
       "      <td>False</td>\n",
       "      <td>False</td>\n",
       "      <td>False</td>\n",
       "      <td>False</td>\n",
       "      <td>0</td>\n",
       "      <td>1</td>\n",
       "      <td>3</td>\n",
       "      <td>1</td>\n",
       "    </tr>\n",
       "    <tr>\n",
       "      <th>...</th>\n",
       "      <td>...</td>\n",
       "      <td>...</td>\n",
       "      <td>...</td>\n",
       "      <td>...</td>\n",
       "      <td>...</td>\n",
       "      <td>...</td>\n",
       "      <td>...</td>\n",
       "      <td>...</td>\n",
       "      <td>...</td>\n",
       "      <td>...</td>\n",
       "      <td>...</td>\n",
       "      <td>...</td>\n",
       "      <td>...</td>\n",
       "      <td>...</td>\n",
       "      <td>...</td>\n",
       "      <td>...</td>\n",
       "      <td>...</td>\n",
       "      <td>...</td>\n",
       "      <td>...</td>\n",
       "      <td>...</td>\n",
       "    </tr>\n",
       "    <tr>\n",
       "      <th>517</th>\n",
       "      <td>1.113317</td>\n",
       "      <td>-0.524799</td>\n",
       "      <td>0.213521</td>\n",
       "      <td>False</td>\n",
       "      <td>True</td>\n",
       "      <td>False</td>\n",
       "      <td>True</td>\n",
       "      <td>False</td>\n",
       "      <td>False</td>\n",
       "      <td>False</td>\n",
       "      <td>False</td>\n",
       "      <td>False</td>\n",
       "      <td>False</td>\n",
       "      <td>True</td>\n",
       "      <td>False</td>\n",
       "      <td>False</td>\n",
       "      <td>0</td>\n",
       "      <td>1</td>\n",
       "      <td>1</td>\n",
       "      <td>0</td>\n",
       "    </tr>\n",
       "    <tr>\n",
       "      <th>518</th>\n",
       "      <td>-0.415135</td>\n",
       "      <td>0.232459</td>\n",
       "      <td>1.176438</td>\n",
       "      <td>False</td>\n",
       "      <td>True</td>\n",
       "      <td>False</td>\n",
       "      <td>True</td>\n",
       "      <td>False</td>\n",
       "      <td>False</td>\n",
       "      <td>False</td>\n",
       "      <td>False</td>\n",
       "      <td>False</td>\n",
       "      <td>True</td>\n",
       "      <td>False</td>\n",
       "      <td>False</td>\n",
       "      <td>False</td>\n",
       "      <td>0</td>\n",
       "      <td>0</td>\n",
       "      <td>3</td>\n",
       "      <td>0</td>\n",
       "    </tr>\n",
       "    <tr>\n",
       "      <th>519</th>\n",
       "      <td>0.434005</td>\n",
       "      <td>0.197603</td>\n",
       "      <td>0.694979</td>\n",
       "      <td>False</td>\n",
       "      <td>True</td>\n",
       "      <td>False</td>\n",
       "      <td>True</td>\n",
       "      <td>False</td>\n",
       "      <td>False</td>\n",
       "      <td>True</td>\n",
       "      <td>False</td>\n",
       "      <td>False</td>\n",
       "      <td>False</td>\n",
       "      <td>False</td>\n",
       "      <td>False</td>\n",
       "      <td>False</td>\n",
       "      <td>0</td>\n",
       "      <td>0</td>\n",
       "      <td>3</td>\n",
       "      <td>0</td>\n",
       "    </tr>\n",
       "    <tr>\n",
       "      <th>520</th>\n",
       "      <td>-1.009533</td>\n",
       "      <td>-0.489943</td>\n",
       "      <td>1.898626</td>\n",
       "      <td>False</td>\n",
       "      <td>True</td>\n",
       "      <td>True</td>\n",
       "      <td>False</td>\n",
       "      <td>False</td>\n",
       "      <td>False</td>\n",
       "      <td>False</td>\n",
       "      <td>False</td>\n",
       "      <td>False</td>\n",
       "      <td>False</td>\n",
       "      <td>True</td>\n",
       "      <td>False</td>\n",
       "      <td>False</td>\n",
       "      <td>0</td>\n",
       "      <td>0</td>\n",
       "      <td>2</td>\n",
       "      <td>1</td>\n",
       "    </tr>\n",
       "    <tr>\n",
       "      <th>521</th>\n",
       "      <td>-0.669877</td>\n",
       "      <td>0.443302</td>\n",
       "      <td>1.898626</td>\n",
       "      <td>False</td>\n",
       "      <td>True</td>\n",
       "      <td>False</td>\n",
       "      <td>True</td>\n",
       "      <td>False</td>\n",
       "      <td>False</td>\n",
       "      <td>True</td>\n",
       "      <td>False</td>\n",
       "      <td>False</td>\n",
       "      <td>False</td>\n",
       "      <td>False</td>\n",
       "      <td>False</td>\n",
       "      <td>False</td>\n",
       "      <td>1</td>\n",
       "      <td>1</td>\n",
       "      <td>2</td>\n",
       "      <td>0</td>\n",
       "    </tr>\n",
       "  </tbody>\n",
       "</table>\n",
       "<p>522 rows × 20 columns</p>\n",
       "</div>"
      ],
      "text/plain": [
       "          Age  Credit amount  Duration  Sex_female  Sex_male  Housing_free  \\\n",
       "0   -1.094447       0.913171  2.139356        True     False         False   \n",
       "1    0.858575       1.573037  1.657897       False      True          True   \n",
       "2    1.537887       0.543768  0.213521       False      True          True   \n",
       "3    0.009435       1.253868  1.176438       False      True         False   \n",
       "4   -0.584963       0.668155  0.694979       False      True         False   \n",
       "..        ...            ...       ...         ...       ...           ...   \n",
       "517  1.113317      -0.524799  0.213521       False      True         False   \n",
       "518 -0.415135       0.232459  1.176438       False      True         False   \n",
       "519  0.434005       0.197603  0.694979       False      True         False   \n",
       "520 -1.009533      -0.489943  1.898626       False      True          True   \n",
       "521 -0.669877       0.443302  1.898626       False      True         False   \n",
       "\n",
       "     Housing_own  Housing_rent  Purpose_business  Purpose_car  \\\n",
       "0           True         False             False        False   \n",
       "1          False         False             False        False   \n",
       "2          False         False             False         True   \n",
       "3          False          True             False         True   \n",
       "4           True         False             False         True   \n",
       "..           ...           ...               ...          ...   \n",
       "517         True         False             False        False   \n",
       "518         True         False             False        False   \n",
       "519         True         False             False         True   \n",
       "520        False         False             False        False   \n",
       "521         True         False             False         True   \n",
       "\n",
       "     Purpose_domestic appliances  Purpose_education  \\\n",
       "0                          False              False   \n",
       "1                          False              False   \n",
       "2                          False              False   \n",
       "3                          False              False   \n",
       "4                          False              False   \n",
       "..                           ...                ...   \n",
       "517                        False              False   \n",
       "518                        False              False   \n",
       "519                        False              False   \n",
       "520                        False              False   \n",
       "521                        False              False   \n",
       "\n",
       "     Purpose_furniture/equipment  Purpose_radio/TV  Purpose_repairs  \\\n",
       "0                          False              True            False   \n",
       "1                           True             False            False   \n",
       "2                          False             False            False   \n",
       "3                          False             False            False   \n",
       "4                          False             False            False   \n",
       "..                           ...               ...              ...   \n",
       "517                        False              True            False   \n",
       "518                         True             False            False   \n",
       "519                        False             False            False   \n",
       "520                        False              True            False   \n",
       "521                        False             False            False   \n",
       "\n",
       "     Purpose_vacation/others  Savings_Acc  Checking_Acc  Job_Skill  Bad_Risk  \n",
       "0                      False            0             1          2         1  \n",
       "1                      False            0             0          2         0  \n",
       "2                      False            0             0          2         1  \n",
       "3                      False            0             1          3         0  \n",
       "4                      False            0             1          3         1  \n",
       "..                       ...          ...           ...        ...       ...  \n",
       "517                    False            0             1          1         0  \n",
       "518                    False            0             0          3         0  \n",
       "519                    False            0             0          3         0  \n",
       "520                    False            0             0          2         1  \n",
       "521                    False            1             1          2         0  \n",
       "\n",
       "[522 rows x 20 columns]"
      ]
     },
     "execution_count": 5,
     "metadata": {},
     "output_type": "execute_result"
    }
   ],
   "source": [
    "df_clean"
   ]
  },
  {
   "cell_type": "markdown",
   "id": "c96fc014-eb2b-472c-8fb3-8a133e63fb10",
   "metadata": {},
   "source": [
    "___\n",
    "#### 3. Definindo o modelo: Rede Neural com Tensorflow/Keras\n",
    "Passo-a-passo:\n",
    "- Separar o dataset em treino/teste.\n",
    "- Definir o modelo sequencial utilizando:\n",
    "1. uma camada de entrada com input = número de variáveis independentes\n",
    "2. duas camadas ocultas densas (utilizando a função de ativação ReLU)\n",
    "3. uma camada de saída (utilizando a função de ativação Sigmoid)\n",
    "\n",
    "- Para controlar o problema de overfitting utilizarei três recursos:\n",
    "1. Um regularizador L2 em todas as camadas exceto a camada de saída (aplicado na definição do modelo)\n",
    "2. O mecanismo de Dropout que adiciona uma probabilidade de não ativação para cada neurônio (aplicado na definição do modelo)\n",
    "3. Um mecanismo parada que interrompe o treino do modelo quando a loss_function começar a aumentar, sugerindo o início do problema de overfitting (aplicado no treino do modelo)"
   ]
  },
  {
   "cell_type": "code",
   "execution_count": 7,
   "id": "c86d604e-fad7-4ebe-bcf6-ab6295aaeab2",
   "metadata": {},
   "outputs": [],
   "source": [
    "from sklearn.model_selection import train_test_split\n",
    "X = df_clean.drop(columns='Bad_Risk')\n",
    "y= df_clean['Bad_Risk']\n",
    "X_train, X_test, y_train, y_test = train_test_split(X, y, test_size=0.2, random_state=1)"
   ]
  },
  {
   "cell_type": "code",
   "execution_count": 8,
   "id": "5aee0a47-a75f-4031-bfbd-2ea658492cc9",
   "metadata": {},
   "outputs": [
    {
     "data": {
      "text/plain": [
       "((417, 19), (105, 19), (417,), (105,))"
      ]
     },
     "execution_count": 8,
     "metadata": {},
     "output_type": "execute_result"
    }
   ],
   "source": [
    "X_train.shape, X_test.shape, y_train.shape, y_test.shape"
   ]
  },
  {
   "cell_type": "code",
   "execution_count": 9,
   "id": "06768f45-afb7-47af-9e84-0056995cf498",
   "metadata": {},
   "outputs": [],
   "source": [
    "import tensorflow as tf\n",
    "from tensorflow.keras import Sequential\n",
    "from tensorflow.keras.layers import Dense"
   ]
  },
  {
   "cell_type": "code",
   "execution_count": 10,
   "id": "7eb59c83-953d-4a76-9784-0997a8a13ce4",
   "metadata": {},
   "outputs": [
    {
     "name": "stderr",
     "output_type": "stream",
     "text": [
      "C:\\Users\\victo\\AppData\\Roaming\\Python\\Python311\\site-packages\\keras\\src\\layers\\core\\dense.py:87: UserWarning: Do not pass an `input_shape`/`input_dim` argument to a layer. When using Sequential models, prefer using an `Input(shape)` object as the first layer in the model instead.\n",
      "  super().__init__(activity_regularizer=activity_regularizer, **kwargs)\n"
     ]
    },
    {
     "data": {
      "text/html": [
       "<pre style=\"white-space:pre;overflow-x:auto;line-height:normal;font-family:Menlo,'DejaVu Sans Mono',consolas,'Courier New',monospace\"><span style=\"font-weight: bold\">Model: \"sequential\"</span>\n",
       "</pre>\n"
      ],
      "text/plain": [
       "\u001b[1mModel: \"sequential\"\u001b[0m\n"
      ]
     },
     "metadata": {},
     "output_type": "display_data"
    },
    {
     "data": {
      "text/html": [
       "<pre style=\"white-space:pre;overflow-x:auto;line-height:normal;font-family:Menlo,'DejaVu Sans Mono',consolas,'Courier New',monospace\">┏━━━━━━━━━━━━━━━━━━━━━━━━━━━━━━━━━┳━━━━━━━━━━━━━━━━━━━━━━━━┳━━━━━━━━━━━━━━━┓\n",
       "┃<span style=\"font-weight: bold\"> Layer (type)                    </span>┃<span style=\"font-weight: bold\"> Output Shape           </span>┃<span style=\"font-weight: bold\">       Param # </span>┃\n",
       "┡━━━━━━━━━━━━━━━━━━━━━━━━━━━━━━━━━╇━━━━━━━━━━━━━━━━━━━━━━━━╇━━━━━━━━━━━━━━━┩\n",
       "│ dense (<span style=\"color: #0087ff; text-decoration-color: #0087ff\">Dense</span>)                   │ (<span style=\"color: #00d7ff; text-decoration-color: #00d7ff\">None</span>, <span style=\"color: #00af00; text-decoration-color: #00af00\">32</span>)             │           <span style=\"color: #00af00; text-decoration-color: #00af00\">640</span> │\n",
       "├─────────────────────────────────┼────────────────────────┼───────────────┤\n",
       "│ dropout (<span style=\"color: #0087ff; text-decoration-color: #0087ff\">Dropout</span>)               │ (<span style=\"color: #00d7ff; text-decoration-color: #00d7ff\">None</span>, <span style=\"color: #00af00; text-decoration-color: #00af00\">32</span>)             │             <span style=\"color: #00af00; text-decoration-color: #00af00\">0</span> │\n",
       "├─────────────────────────────────┼────────────────────────┼───────────────┤\n",
       "│ dense_1 (<span style=\"color: #0087ff; text-decoration-color: #0087ff\">Dense</span>)                 │ (<span style=\"color: #00d7ff; text-decoration-color: #00d7ff\">None</span>, <span style=\"color: #00af00; text-decoration-color: #00af00\">16</span>)             │           <span style=\"color: #00af00; text-decoration-color: #00af00\">528</span> │\n",
       "├─────────────────────────────────┼────────────────────────┼───────────────┤\n",
       "│ dropout_1 (<span style=\"color: #0087ff; text-decoration-color: #0087ff\">Dropout</span>)             │ (<span style=\"color: #00d7ff; text-decoration-color: #00d7ff\">None</span>, <span style=\"color: #00af00; text-decoration-color: #00af00\">16</span>)             │             <span style=\"color: #00af00; text-decoration-color: #00af00\">0</span> │\n",
       "├─────────────────────────────────┼────────────────────────┼───────────────┤\n",
       "│ dense_2 (<span style=\"color: #0087ff; text-decoration-color: #0087ff\">Dense</span>)                 │ (<span style=\"color: #00d7ff; text-decoration-color: #00d7ff\">None</span>, <span style=\"color: #00af00; text-decoration-color: #00af00\">8</span>)              │           <span style=\"color: #00af00; text-decoration-color: #00af00\">136</span> │\n",
       "├─────────────────────────────────┼────────────────────────┼───────────────┤\n",
       "│ dropout_2 (<span style=\"color: #0087ff; text-decoration-color: #0087ff\">Dropout</span>)             │ (<span style=\"color: #00d7ff; text-decoration-color: #00d7ff\">None</span>, <span style=\"color: #00af00; text-decoration-color: #00af00\">8</span>)              │             <span style=\"color: #00af00; text-decoration-color: #00af00\">0</span> │\n",
       "├─────────────────────────────────┼────────────────────────┼───────────────┤\n",
       "│ dense_3 (<span style=\"color: #0087ff; text-decoration-color: #0087ff\">Dense</span>)                 │ (<span style=\"color: #00d7ff; text-decoration-color: #00d7ff\">None</span>, <span style=\"color: #00af00; text-decoration-color: #00af00\">1</span>)              │             <span style=\"color: #00af00; text-decoration-color: #00af00\">9</span> │\n",
       "└─────────────────────────────────┴────────────────────────┴───────────────┘\n",
       "</pre>\n"
      ],
      "text/plain": [
       "┏━━━━━━━━━━━━━━━━━━━━━━━━━━━━━━━━━┳━━━━━━━━━━━━━━━━━━━━━━━━┳━━━━━━━━━━━━━━━┓\n",
       "┃\u001b[1m \u001b[0m\u001b[1mLayer (type)                   \u001b[0m\u001b[1m \u001b[0m┃\u001b[1m \u001b[0m\u001b[1mOutput Shape          \u001b[0m\u001b[1m \u001b[0m┃\u001b[1m \u001b[0m\u001b[1m      Param #\u001b[0m\u001b[1m \u001b[0m┃\n",
       "┡━━━━━━━━━━━━━━━━━━━━━━━━━━━━━━━━━╇━━━━━━━━━━━━━━━━━━━━━━━━╇━━━━━━━━━━━━━━━┩\n",
       "│ dense (\u001b[38;5;33mDense\u001b[0m)                   │ (\u001b[38;5;45mNone\u001b[0m, \u001b[38;5;34m32\u001b[0m)             │           \u001b[38;5;34m640\u001b[0m │\n",
       "├─────────────────────────────────┼────────────────────────┼───────────────┤\n",
       "│ dropout (\u001b[38;5;33mDropout\u001b[0m)               │ (\u001b[38;5;45mNone\u001b[0m, \u001b[38;5;34m32\u001b[0m)             │             \u001b[38;5;34m0\u001b[0m │\n",
       "├─────────────────────────────────┼────────────────────────┼───────────────┤\n",
       "│ dense_1 (\u001b[38;5;33mDense\u001b[0m)                 │ (\u001b[38;5;45mNone\u001b[0m, \u001b[38;5;34m16\u001b[0m)             │           \u001b[38;5;34m528\u001b[0m │\n",
       "├─────────────────────────────────┼────────────────────────┼───────────────┤\n",
       "│ dropout_1 (\u001b[38;5;33mDropout\u001b[0m)             │ (\u001b[38;5;45mNone\u001b[0m, \u001b[38;5;34m16\u001b[0m)             │             \u001b[38;5;34m0\u001b[0m │\n",
       "├─────────────────────────────────┼────────────────────────┼───────────────┤\n",
       "│ dense_2 (\u001b[38;5;33mDense\u001b[0m)                 │ (\u001b[38;5;45mNone\u001b[0m, \u001b[38;5;34m8\u001b[0m)              │           \u001b[38;5;34m136\u001b[0m │\n",
       "├─────────────────────────────────┼────────────────────────┼───────────────┤\n",
       "│ dropout_2 (\u001b[38;5;33mDropout\u001b[0m)             │ (\u001b[38;5;45mNone\u001b[0m, \u001b[38;5;34m8\u001b[0m)              │             \u001b[38;5;34m0\u001b[0m │\n",
       "├─────────────────────────────────┼────────────────────────┼───────────────┤\n",
       "│ dense_3 (\u001b[38;5;33mDense\u001b[0m)                 │ (\u001b[38;5;45mNone\u001b[0m, \u001b[38;5;34m1\u001b[0m)              │             \u001b[38;5;34m9\u001b[0m │\n",
       "└─────────────────────────────────┴────────────────────────┴───────────────┘\n"
      ]
     },
     "metadata": {},
     "output_type": "display_data"
    },
    {
     "data": {
      "text/html": [
       "<pre style=\"white-space:pre;overflow-x:auto;line-height:normal;font-family:Menlo,'DejaVu Sans Mono',consolas,'Courier New',monospace\"><span style=\"font-weight: bold\"> Total params: </span><span style=\"color: #00af00; text-decoration-color: #00af00\">1,313</span> (5.13 KB)\n",
       "</pre>\n"
      ],
      "text/plain": [
       "\u001b[1m Total params: \u001b[0m\u001b[38;5;34m1,313\u001b[0m (5.13 KB)\n"
      ]
     },
     "metadata": {},
     "output_type": "display_data"
    },
    {
     "data": {
      "text/html": [
       "<pre style=\"white-space:pre;overflow-x:auto;line-height:normal;font-family:Menlo,'DejaVu Sans Mono',consolas,'Courier New',monospace\"><span style=\"font-weight: bold\"> Trainable params: </span><span style=\"color: #00af00; text-decoration-color: #00af00\">1,313</span> (5.13 KB)\n",
       "</pre>\n"
      ],
      "text/plain": [
       "\u001b[1m Trainable params: \u001b[0m\u001b[38;5;34m1,313\u001b[0m (5.13 KB)\n"
      ]
     },
     "metadata": {},
     "output_type": "display_data"
    },
    {
     "data": {
      "text/html": [
       "<pre style=\"white-space:pre;overflow-x:auto;line-height:normal;font-family:Menlo,'DejaVu Sans Mono',consolas,'Courier New',monospace\"><span style=\"font-weight: bold\"> Non-trainable params: </span><span style=\"color: #00af00; text-decoration-color: #00af00\">0</span> (0.00 B)\n",
       "</pre>\n"
      ],
      "text/plain": [
       "\u001b[1m Non-trainable params: \u001b[0m\u001b[38;5;34m0\u001b[0m (0.00 B)\n"
      ]
     },
     "metadata": {},
     "output_type": "display_data"
    }
   ],
   "source": [
    "from tensorflow.keras.regularizers import l2\n",
    "from tensorflow.keras.layers import Dropout\n",
    "from tensorflow.keras.callbacks import EarlyStopping\n",
    "\n",
    "model_2 = Sequential([\n",
    "    Dense(32, activation='relu', input_shape=(X_train.shape[1],), kernel_regularizer=l2(0.002)),\n",
    "    Dropout(0.2),\n",
    "    Dense(16, activation='relu', kernel_regularizer=l2(0.002)),\n",
    "    Dropout(0.2),\n",
    "    Dense(8, activation='relu', kernel_regularizer=l2(0.002)),\n",
    "    Dropout(0.2),\n",
    "    Dense(1, activation='sigmoid')\n",
    "])\n",
    "\n",
    "model_2.summary()"
   ]
  },
  {
   "cell_type": "markdown",
   "id": "a8534e44-35be-44ac-8547-acab2fa82d39",
   "metadata": {},
   "source": [
    "___\n",
    "#### 4. Treinando o modelo\n",
    "- Otimizador utilizado: Adam (\"Adaptive Moment Estimation) - permite uma taxa de aprendizado para cada parâmetro (um poouco mais flexível que o SGD)\n",
    "- Função de perda: Cross-entropia Binária - ideal para previsão de variáveis binárias (0 e 1)\n",
    "- Métrica utilizada: Acurácia - porcentagem de previsões corretas do modelo"
   ]
  },
  {
   "cell_type": "code",
   "execution_count": 12,
   "id": "3a1b77ca-0e6d-4093-a40e-9e9777ec2cbc",
   "metadata": {},
   "outputs": [],
   "source": [
    "model_2.compile(optimizer='adam',\n",
    "             loss='binary_crossentropy',\n",
    "             metrics=['accuracy'])"
   ]
  },
  {
   "cell_type": "markdown",
   "id": "ce063049-23d4-4f94-a2f9-6420848da297",
   "metadata": {},
   "source": [
    "- Aqui vamos treinar o modelo.\n",
    "- É nesse momento que definimos o mecanismo de parada para evitar overfitting.\n",
    "- Vamos setar o modelo para treinar durante 100 epochs, com amostragem de 32 observações.\n",
    "\n",
    "Resultado:\n",
    "- **Acurácia no modelo de teste: ~70%**\n",
    "- **Devido a quantidade baixa de dados (apenas cerca de 500 observações), só conseguimos rodar cerca de 25 epochs até que a função de perda comece a aumentar no set de validação**.\n",
    "- Mesmo com a limitação da quantidade de dados, que é um fator crucial para a qualidade de um modelo de Rede Neural, ainda obtivemos uma acurácia de cerca de 70% no dataset de treino, semelhante à acurácia obtida com o modelo de Support Vector Machine (SVM) neste tutorial: https://github.com/victordhn/Finance-Projects/blob/master/Credit%20Analysis/An%C3%A1lise%20de%20Cr%C3%A9dito%20SVM.ipynb"
   ]
  },
  {
   "cell_type": "code",
   "execution_count": 14,
   "id": "0cec9493-e0d5-499a-b74a-ff1ec097e982",
   "metadata": {},
   "outputs": [
    {
     "name": "stdout",
     "output_type": "stream",
     "text": [
      "Epoch 1/100\n",
      "\u001b[1m11/11\u001b[0m \u001b[32m━━━━━━━━━━━━━━━━━━━━\u001b[0m\u001b[37m\u001b[0m \u001b[1m3s\u001b[0m 31ms/step - accuracy: 0.5342 - loss: 0.8914 - val_accuracy: 0.5000 - val_loss: 0.8711\n",
      "Epoch 2/100\n",
      "\u001b[1m11/11\u001b[0m \u001b[32m━━━━━━━━━━━━━━━━━━━━\u001b[0m\u001b[37m\u001b[0m \u001b[1m0s\u001b[0m 6ms/step - accuracy: 0.5237 - loss: 0.8523 - val_accuracy: 0.5000 - val_loss: 0.8401\n",
      "Epoch 3/100\n",
      "\u001b[1m11/11\u001b[0m \u001b[32m━━━━━━━━━━━━━━━━━━━━\u001b[0m\u001b[37m\u001b[0m \u001b[1m0s\u001b[0m 5ms/step - accuracy: 0.5422 - loss: 0.8095 - val_accuracy: 0.5000 - val_loss: 0.8263\n",
      "Epoch 4/100\n",
      "\u001b[1m11/11\u001b[0m \u001b[32m━━━━━━━━━━━━━━━━━━━━\u001b[0m\u001b[37m\u001b[0m \u001b[1m0s\u001b[0m 5ms/step - accuracy: 0.5473 - loss: 0.8108 - val_accuracy: 0.4881 - val_loss: 0.8185\n",
      "Epoch 5/100\n",
      "\u001b[1m11/11\u001b[0m \u001b[32m━━━━━━━━━━━━━━━━━━━━\u001b[0m\u001b[37m\u001b[0m \u001b[1m0s\u001b[0m 5ms/step - accuracy: 0.5781 - loss: 0.7733 - val_accuracy: 0.5000 - val_loss: 0.8134\n",
      "Epoch 6/100\n",
      "\u001b[1m11/11\u001b[0m \u001b[32m━━━━━━━━━━━━━━━━━━━━\u001b[0m\u001b[37m\u001b[0m \u001b[1m0s\u001b[0m 4ms/step - accuracy: 0.5636 - loss: 0.8024 - val_accuracy: 0.4762 - val_loss: 0.8094\n",
      "Epoch 7/100\n",
      "\u001b[1m11/11\u001b[0m \u001b[32m━━━━━━━━━━━━━━━━━━━━\u001b[0m\u001b[37m\u001b[0m \u001b[1m0s\u001b[0m 6ms/step - accuracy: 0.5521 - loss: 0.8058 - val_accuracy: 0.4643 - val_loss: 0.8062\n",
      "Epoch 8/100\n",
      "\u001b[1m11/11\u001b[0m \u001b[32m━━━━━━━━━━━━━━━━━━━━\u001b[0m\u001b[37m\u001b[0m \u001b[1m0s\u001b[0m 7ms/step - accuracy: 0.5771 - loss: 0.7766 - val_accuracy: 0.4881 - val_loss: 0.8040\n",
      "Epoch 9/100\n",
      "\u001b[1m11/11\u001b[0m \u001b[32m━━━━━━━━━━━━━━━━━━━━\u001b[0m\u001b[37m\u001b[0m \u001b[1m0s\u001b[0m 5ms/step - accuracy: 0.5364 - loss: 0.7829 - val_accuracy: 0.5000 - val_loss: 0.8017\n",
      "Epoch 10/100\n",
      "\u001b[1m11/11\u001b[0m \u001b[32m━━━━━━━━━━━━━━━━━━━━\u001b[0m\u001b[37m\u001b[0m \u001b[1m0s\u001b[0m 5ms/step - accuracy: 0.5911 - loss: 0.7613 - val_accuracy: 0.5119 - val_loss: 0.7991\n",
      "Epoch 11/100\n",
      "\u001b[1m11/11\u001b[0m \u001b[32m━━━━━━━━━━━━━━━━━━━━\u001b[0m\u001b[37m\u001b[0m \u001b[1m0s\u001b[0m 5ms/step - accuracy: 0.6520 - loss: 0.7445 - val_accuracy: 0.5357 - val_loss: 0.7971\n",
      "Epoch 12/100\n",
      "\u001b[1m11/11\u001b[0m \u001b[32m━━━━━━━━━━━━━━━━━━━━\u001b[0m\u001b[37m\u001b[0m \u001b[1m0s\u001b[0m 5ms/step - accuracy: 0.5978 - loss: 0.7697 - val_accuracy: 0.5833 - val_loss: 0.7946\n",
      "Epoch 13/100\n",
      "\u001b[1m11/11\u001b[0m \u001b[32m━━━━━━━━━━━━━━━━━━━━\u001b[0m\u001b[37m\u001b[0m \u001b[1m0s\u001b[0m 5ms/step - accuracy: 0.5852 - loss: 0.7535 - val_accuracy: 0.5714 - val_loss: 0.7929\n",
      "Epoch 14/100\n",
      "\u001b[1m11/11\u001b[0m \u001b[32m━━━━━━━━━━━━━━━━━━━━\u001b[0m\u001b[37m\u001b[0m \u001b[1m0s\u001b[0m 6ms/step - accuracy: 0.6510 - loss: 0.7311 - val_accuracy: 0.5833 - val_loss: 0.7912\n",
      "Epoch 15/100\n",
      "\u001b[1m11/11\u001b[0m \u001b[32m━━━━━━━━━━━━━━━━━━━━\u001b[0m\u001b[37m\u001b[0m \u001b[1m0s\u001b[0m 5ms/step - accuracy: 0.6443 - loss: 0.7372 - val_accuracy: 0.5952 - val_loss: 0.7913\n",
      "Epoch 16/100\n",
      "\u001b[1m11/11\u001b[0m \u001b[32m━━━━━━━━━━━━━━━━━━━━\u001b[0m\u001b[37m\u001b[0m \u001b[1m0s\u001b[0m 5ms/step - accuracy: 0.6414 - loss: 0.7359 - val_accuracy: 0.5952 - val_loss: 0.7905\n",
      "Epoch 17/100\n",
      "\u001b[1m11/11\u001b[0m \u001b[32m━━━━━━━━━━━━━━━━━━━━\u001b[0m\u001b[37m\u001b[0m \u001b[1m0s\u001b[0m 6ms/step - accuracy: 0.6601 - loss: 0.7037 - val_accuracy: 0.5833 - val_loss: 0.7890\n",
      "Epoch 18/100\n",
      "\u001b[1m11/11\u001b[0m \u001b[32m━━━━━━━━━━━━━━━━━━━━\u001b[0m\u001b[37m\u001b[0m \u001b[1m0s\u001b[0m 5ms/step - accuracy: 0.6487 - loss: 0.7178 - val_accuracy: 0.5357 - val_loss: 0.7873\n",
      "Epoch 19/100\n",
      "\u001b[1m11/11\u001b[0m \u001b[32m━━━━━━━━━━━━━━━━━━━━\u001b[0m\u001b[37m\u001b[0m \u001b[1m0s\u001b[0m 4ms/step - accuracy: 0.6502 - loss: 0.7121 - val_accuracy: 0.5357 - val_loss: 0.7875\n",
      "Epoch 20/100\n",
      "\u001b[1m11/11\u001b[0m \u001b[32m━━━━━━━━━━━━━━━━━━━━\u001b[0m\u001b[37m\u001b[0m \u001b[1m0s\u001b[0m 5ms/step - accuracy: 0.6816 - loss: 0.6989 - val_accuracy: 0.5476 - val_loss: 0.7890\n",
      "Epoch 21/100\n",
      "\u001b[1m11/11\u001b[0m \u001b[32m━━━━━━━━━━━━━━━━━━━━\u001b[0m\u001b[37m\u001b[0m \u001b[1m0s\u001b[0m 5ms/step - accuracy: 0.6948 - loss: 0.7051 - val_accuracy: 0.5476 - val_loss: 0.7917\n",
      "Epoch 22/100\n",
      "\u001b[1m11/11\u001b[0m \u001b[32m━━━━━━━━━━━━━━━━━━━━\u001b[0m\u001b[37m\u001b[0m \u001b[1m0s\u001b[0m 6ms/step - accuracy: 0.6746 - loss: 0.6988 - val_accuracy: 0.5714 - val_loss: 0.7926\n",
      "Epoch 23/100\n",
      "\u001b[1m11/11\u001b[0m \u001b[32m━━━━━━━━━━━━━━━━━━━━\u001b[0m\u001b[37m\u001b[0m \u001b[1m0s\u001b[0m 4ms/step - accuracy: 0.6807 - loss: 0.6926 - val_accuracy: 0.5833 - val_loss: 0.7929\n"
     ]
    }
   ],
   "source": [
    "early_stopping = EarlyStopping(monitor='val_loss', patience=5)\n",
    "history_2 = model_2.fit(X_train, y_train, \n",
    "                        epochs=100, \n",
    "                        batch_size=32, \n",
    "                        validation_split=0.2, \n",
    "                        callbacks=[early_stopping], \n",
    "                        verbose=1)"
   ]
  },
  {
   "cell_type": "markdown",
   "id": "8d1acb2f-c67f-4267-b096-12f0a590e2e0",
   "metadata": {},
   "source": [
    "- Vamos fazer um gráfico aqui da performance do modelo em cada epoch\n",
    "- Essa é uma excelente forma de visualizar a evolução do treino do modelo\n",
    "- Como utilizamos o mecanismo de early stopping, só temos 23 epochs para plotar"
   ]
  },
  {
   "cell_type": "code",
   "execution_count": 16,
   "id": "e709ca81-0253-49c6-ac55-8d865db694b1",
   "metadata": {},
   "outputs": [
    {
     "data": {
      "image/png": "[encoded data removed]",
      "text/plain": [
       "<Figure size 640x480 with 1 Axes>"
      ]
     },
     "metadata": {},
     "output_type": "display_data"
    }
   ],
   "source": [
    "import matplotlib.pyplot as plt\n",
    "\n",
    "plt.plot(history_2.history['accuracy'], label='Accuracy Treino', c='darkgreen', alpha=0.5)\n",
    "plt.plot(history_2.history['val_accuracy'], label='Accuracy Validação', c='limegreen', linestyle='dashed')\n",
    "plt.plot(history_2.history['loss'], label='Loss Treino', c='red',  alpha=0.5)\n",
    "plt.plot(history_2.history['val_loss'], label='Loss Validação', c='lightcoral', linestyle='dashed')\n",
    "plt.title('Performance do Modelo')\n",
    "plt.xlabel('Epoch')\n",
    "plt.ylabel('Accuracy / Loss')\n",
    "plt.legend()\n",
    "plt.show()"
   ]
  },
  {
   "cell_type": "markdown",
   "id": "88b202f1-cad8-497d-b00e-442e0b6dad88",
   "metadata": {},
   "source": [
    "___\n",
    "#### 5. Testando o modelo (test dataset)\n",
    "- Vamos testar o modelo no dataset de test\n",
    "- **Resultado: ~63% de acurácia**"
   ]
  },
  {
   "cell_type": "code",
   "execution_count": 18,
   "id": "fb4c0622-abde-4ce9-af01-6759ce571c0d",
   "metadata": {},
   "outputs": [
    {
     "name": "stdout",
     "output_type": "stream",
     "text": [
      "\u001b[1m4/4\u001b[0m \u001b[32m━━━━━━━━━━━━━━━━━━━━\u001b[0m\u001b[37m\u001b[0m \u001b[1m0s\u001b[0m 5ms/step - accuracy: 0.6316 - loss: 0.7480 \n",
      "Test_loss: 0.7523883581161499, Test accuracy: 0.6285714507102966\n"
     ]
    }
   ],
   "source": [
    "test_loss, test_accuracy = model_2.evaluate(X_test, y_test)\n",
    "print(f'Test_loss: {test_loss}, Test accuracy: {test_accuracy}')"
   ]
  },
  {
   "cell_type": "markdown",
   "id": "b13e646e-488e-451e-9e6f-f4b4f75f4d93",
   "metadata": {},
   "source": [
    "- previsões and matriz de confusão"
   ]
  },
  {
   "cell_type": "code",
   "execution_count": 20,
   "id": "a63f5e29-c6dd-44d9-ad6c-a050d9055990",
   "metadata": {},
   "outputs": [
    {
     "name": "stdout",
     "output_type": "stream",
     "text": [
      "\u001b[1m4/4\u001b[0m \u001b[32m━━━━━━━━━━━━━━━━━━━━\u001b[0m\u001b[37m\u001b[0m \u001b[1m0s\u001b[0m 18ms/step\n"
     ]
    }
   ],
   "source": [
    "predictions = model_2.predict(X_test)\n",
    "pred_y = (predictions > 0.5).astype(int)"
   ]
  },
  {
   "cell_type": "code",
   "execution_count": 21,
   "id": "ddcd1bc1-af0c-47b6-a9cb-42377c593c48",
   "metadata": {},
   "outputs": [
    {
     "name": "stdout",
     "output_type": "stream",
     "text": [
      "Confusion Matrix:\n",
      "[[44 16]\n",
      " [23 22]]\n"
     ]
    }
   ],
   "source": [
    "from sklearn.metrics import confusion_matrix\n",
    "conf_matrix = confusion_matrix(y_test, pred_y)\n",
    "print(\"Confusion Matrix:\")\n",
    "print(conf_matrix)"
   ]
  },
  {
   "cell_type": "markdown",
   "id": "2c2f6c3f-0519-4a3d-a9b1-a0f2a327bd99",
   "metadata": {},
   "source": [
    "___\n",
    "#### 6. Resultados"
   ]
  },
  {
   "cell_type": "code",
   "execution_count": 22,
   "id": "da7943ff-69a5-4a97-9a4f-3d65197ec91f",
   "metadata": {},
   "outputs": [
    {
     "data": {
      "image/png": "[encoded data removed]",
      "text/plain": [
       "<Figure size 800x500 with 2 Axes>"
      ]
     },
     "metadata": {},
     "output_type": "display_data"
    }
   ],
   "source": [
    "import seaborn as sns\n",
    "df_cm = pd.DataFrame(conf_matrix, index=['Negativo', 'Positivo'], columns=['Negativo', 'Positivo'])\n",
    "plt.figure(figsize=(8,5))\n",
    "sns.heatmap(df_cm, annot=True, fmt=\"d\", cmap='Blues')\n",
    "plt.title('Matriz de Confusão')\n",
    "plt.ylabel('Verdadeiros')\n",
    "plt.xlabel('Preditos')\n",
    "plt.show()"
   ]
  }
 ],
 "metadata": {
  "kernelspec": {
   "display_name": "Python 3 (ipykernel)",
   "language": "python",
   "name": "python3"
  },
  "language_info": {
   "codemirror_mode": {
    "name": "ipython",
    "version": 3
   },
   "file_extension": ".py",
   "mimetype": "text/x-python",
   "name": "python",
   "nbconvert_exporter": "python",
   "pygments_lexer": "ipython3",
   "version": "3.11.7"
  }
 },
 "nbformat": 4,
 "nbformat_minor": 5
}
