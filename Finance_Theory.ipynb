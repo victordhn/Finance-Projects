{
 "cells": [
  {
   "cell_type": "markdown",
   "id": "548f3dcf",
   "metadata": {},
   "source": [
    "\n",
    "## Arbitrage-Free Pricing\n",
    "### Precificação por Replicação e Teoria da Arbitragem\n",
    "#### Teoria Financeira: parte 1\n",
    "Tutorial por: \n",
    "* Github: victordhn\n",
    "* Twitter: @victor_dhn\n",
    "* [Linkedin: Victor Dahan](https://www.linkedin.com/in/victor-dahan-04392451/)\n",
    "\n",
    "Baseado no livro do Yves Hilpisch, recomendo a leitura.\n",
    "\n",
    "---\n"
   ]
  },
  {
   "cell_type": "markdown",
   "id": "8ee142dc",
   "metadata": {},
   "source": [
    "#### Vamos basear o modelo em uma economia de 2 estados e 2 períodos\n",
    "\n",
    "Antes de começar, é necessário relembrar alguns conceitos, e como podemos modelar eles no Python. Vamos começar com uma economia sem incerteza, onde o valor exato dos investimentos em $t_0$ e $t_1$ são conhecidos.\n",
    "\n",
    "#### (1) Primeiro momento: investimento e retorno conhecidos\n",
    "\n",
    "#### Conceitos:\n",
    "\n",
    "Tempo e Fluxo de Caixa:\n",
    "* **Tempo:** 0 e 1\n",
    "* **Fluxo de Caixa:** $c = (c_0,c_1)$ onde $c_0$ = investimento em $t=0$ e $c_1$ = pagamento em $t=1$  <br/> Nessa primeira etapa o modelo considera apenas um valor possível para $c_1$\n",
    "\n",
    "Retornos:\n",
    "* **Retorno:** $R=(c_1-c_0)$\n",
    "* **Taxa de Retorno:** $r=(c_1-c_0)/c_0$\n",
    "* **Taxa de Juros:** $i=r$, caso o investimento seja uma aplicação bancária\n",
    "* **Valor Presente:** $VP=c_1/(1+i)$\n",
    "* **Valor Presente Líquido:** $VPL=VP+c_0$, lembrando que $c_0$ entra com valor negativo por ser um aporte\n",
    "\n",
    "Alguns códigos para ilustrar os conceitos:\n"
   ]
  },
  {
   "cell_type": "code",
   "execution_count": 1,
   "id": "9b447347",
   "metadata": {},
   "outputs": [
    {
     "name": "stdout",
     "output_type": "stream",
     "text": [
      "Fluxo de caixa: (-10, 12)\n",
      "Retorno: 2 e taxa de retorno: -0.2\n",
      "Valor presente para c1=11 e i=0.1: 11.00\n",
      "Valor presente líquido para c=(-10,12): 0.91\n"
     ]
    }
   ],
   "source": [
    "import numpy as np\n",
    "# fluxo de caixa\n",
    "c0 = -10\n",
    "c1 = 12\n",
    "c = (c0,c1)\n",
    "print(f'Fluxo de caixa: {c}')\n",
    "\n",
    "# retorno\n",
    "R = sum(c)\n",
    "r = R/c0\n",
    "print(f'Retorno: {R} e taxa de retorno: {r}')\n",
    "\n",
    "# valor presente\n",
    "i = 0.1\n",
    "def D(c1):\n",
    "    return c1/(1+i)\n",
    "print(f'Valor presente para c1=11 e i=0.1: {D(12.1):.2f}')\n",
    "\n",
    "# valor presente líquido\n",
    "def NPV(c):\n",
    "    return c[0] + D(c[1])\n",
    "print(f'Valor presente líquido para c=(-10,12): {NPV(c):.2f}')"
   ]
  },
  {
   "cell_type": "markdown",
   "id": "5dddea17",
   "metadata": {},
   "source": [
    "#### (2) Segundo momento: adicionando incertezas no modelo\n",
    "Nesse segundo momento, vamos adicionar incertezas no modelo a respeito do valor do ativo em $t_1$.\n",
    "\n",
    "#### Conceitos:\n",
    "\n",
    "Incerteza e risco:\n",
    "* **Incerteza nos Cashflows:** dois possíveis estados para $c_1=(c_1^u,c_1^d)$\n",
    "* **Ativo Financeiro:** contrato com preço fixo em $t=0$ e preço variável em $t=1$ <br /> $S_t=(S_0,S_1)$, $t \\in {0,1}$  <br /> $S_1=(S_1^u,S_1^d)$\n",
    "* **Risco:** probabilidade de cada evento acontecer: $P=(p,1-p)$\n",
    "\n",
    "Valor e retorno esperado:\n",
    "* **Valor Esperado:** é a média dos valores possíveis de $S_1$ ponderada por suas probabilidades: <br /> \n",
    "$E^P(S_1) = (P * S_1) = p*S_1^u + (1-p)*S_1^d$\n",
    "\n",
    "* **Retorno Esperado:** o conceito é equivalente à ao retorno explicado antes, porém usando o valor esperado do ativo em $t_1$: <br /> \n",
    "$E^P(R)=E^P(S_1)-S_0$  \n",
    "\n",
    "* **Taxa de Retorno Esperado:** seguindo a mesma linha, dividimos o retorno esperado pelo valor em $t=0$: <br /> $\\mu=E^P(r)=E^P(R)/S_0$ <br /> Como utilizaremos muito o conceito de taxa de retorno esperado, vamos \"apelida-lo\" de $\\mu$\n",
    "\n",
    "Volatilidade:\n",
    "* **Volatilidade:** a volatilidade é o desvio padrão da taxa de retorno e mede o quanto as taxas de retorno variam ao redor da taxa de retorno esperada: <br /> $\\sigma(r) = \\sqrt{\\sigma^2(r)}$, onde $\\sigma^2(r)=E^p\\big((r-\\mu)^2\\big)$"
   ]
  },
  {
   "cell_type": "code",
   "execution_count": 2,
   "id": "d6f807b8",
   "metadata": {},
   "outputs": [
    {
     "name": "stdout",
     "output_type": "stream",
     "text": [
      "Fluxo de caixa em t=0: -10; Possíveis fluxos de caixa em t=1: [35 11]\n",
      "\n",
      "----- Ativos Financeiros -----\n",
      "O ativo financeiro S tem preço R$10.00 em t=0 e possíveis preços R$20.00 ou R$5.00 em t=1\n",
      "A probabilidade de se obter S1=R$20.00 é de 40.0%, enquanto para S1=R$5.00 a probabilidade é de 60.0%\n",
      "O valor esperado do ativo em t=1 é de R$11.00\n",
      "O retorno esperado do ativo é de R$1.00\n",
      "A taxa de retorno esperada do ativo é de 0.10\n",
      "A volatilidade da taxa de retorno é de: 0.7348\n"
     ]
    }
   ],
   "source": [
    "import numpy as np\n",
    "# incerteza nos cashflows\n",
    "c1=np.array((35,11))\n",
    "c=(c0,c1)\n",
    "print(f'Fluxo de caixa em t=0: {c[0]}; Possíveis fluxos de caixa em t=1: {c[1]}')\n",
    "\n",
    "print('\\n----- Ativos Financeiros -----')\n",
    "# ativo financeiro\n",
    "S0 = 10\n",
    "S1 = np.array((20,5))\n",
    "S = (S0,S1)\n",
    "print(f'O ativo financeiro S tem preço R${S[0]:.2f} em t=0 e possíveis preços R${S[1][0]:.2f} ou R${S[1][1]:.2f} em t=1')\n",
    "\n",
    "# risco (probabilidade dos eventos)\n",
    "p = 0.4\n",
    "P = np.array((p,1-p))\n",
    "print(f'A probabilidade de se obter S1=R${S[1][0]:.2f} é de {P[0]*100}%, enquanto para S1=R${S[1][1]:.2f} a probabilidade é de {P[1]*100}%')\n",
    "\n",
    "# valor esperado\n",
    "E = np.dot(P,S1)\n",
    "print(f'O valor esperado do ativo em t=1 é de R${E:.2f}')\n",
    "\n",
    "# retorno esperado e taxa de retorno\n",
    "def ER(x0,x1):\n",
    "    return np.dot(P,x1)-x0\n",
    "print(f'O retorno esperado do ativo é de R${ER(S[0],S[1]):.2f}')\n",
    "\n",
    "def mu(x0,x1):\n",
    "    return (np.dot(P,x1)-x0)/x0\n",
    "print(f'A taxa de retorno esperada do ativo é de {mu(S[0],S[1]):.2f}')\n",
    "\n",
    "# volatilidade\n",
    "def sigma(P,x0,x1):\n",
    "    r = (x1-x0)/x0 #definindo cada taxa de estorno específica\n",
    "    r_exp = mu(x0,x1) #definindo a taxa de retorno esperada\n",
    "    sigma2 = np.dot(P,(r-r_exp)**2) #definindo a variancia das taxas de retorno\n",
    "    sigma = np.sqrt(sigma2) #definindo o desv. padrão das taxas de retorno = volatilidade\n",
    "    return sigma\n",
    "sigma(P,S[0],S[1])\n",
    "print(f'A volatilidade da taxa de retorno é de: {sigma(P,S[0],S[1]):.4f}')"
   ]
  },
  {
   "cell_type": "markdown",
   "id": "bbb582fd",
   "metadata": {},
   "source": [
    "#### Finalmente, falaremos sobre Arbitrage-Free Pricing.\n",
    "\n",
    "A ideia básica é mostrar que qualquer ativo (genericamente usamos o conceito de Contingent Claim explicado abaixo) pode ser replicado por um portfolio contendo apenas um ativo livre de risco e um ativo com risco e payoffs conhecidos\n",
    "\n",
    "#### Contingent Claim\n",
    "Antes de prosseguir, eu não traduzi esse termo porque eu não vejo ele sendo muito usado em português. Um contingent claim nada mais é que um ativo cujo pagamento em $t_1$ depende de um ou outro cenário se concretizar. Ele pode ser um pagamento que depende só do cenário, ou que depende também de outro ativo (por exemplo, os derivativos financeiros). Como vamos utilizar muitos conceito de opções nos modelos que se seguem, vamos definir uma call option aqui:\n",
    "\n",
    "* **Call Option**: opção de compra cujo payoff em $t_1$ depende do valor do ativo subjacente: $S_1$, e do strike price $K$ da opção. <br /> \n",
    "$C_1(S_1(\\omega))=max(S_1(\\omega)-K,0)$, *onde $S_1(\\omega)$ representa o valor do ativo no cenário $\\omega$* <br />\n",
    "\n",
    "Em resumo, se o valor do ativo é maior que $K$, a opção é exercida e seu payoff é $S_1(\\omega)-K$. Se o valor do ativo for inferior a K, a opção tem payoff 0."
   ]
  },
  {
   "cell_type": "code",
   "execution_count": 3,
   "id": "591c0fff",
   "metadata": {},
   "outputs": [
    {
     "data": {
      "text/plain": [
       "Text(0, 0.5, 'Payoff da Call: $C_1$')"
      ]
     },
     "execution_count": 3,
     "metadata": {},
     "output_type": "execute_result"
    },
    {
     "data": {
      "image/png": "[encoded data removed]",
      "text/plain": [
       "<Figure size 600x300 with 1 Axes>"
      ]
     },
     "metadata": {},
     "output_type": "display_data"
    }
   ],
   "source": [
    "import numpy as np\n",
    "# simulação do valor da call option:\n",
    "\n",
    "# primeiro definimos um range de valores para o ativo (de R$0,00 a R$30,00)\n",
    "S1 = np.arange(30)\n",
    "\n",
    "# definimos o valor do strike para call K=15 e a função que captura o seu payoff C1\n",
    "K=15\n",
    "C1 = np.maximum(S1-K,0) #sempre que o ativo for inferior: S1-K<0 logo o payoff da opção será 0.\n",
    "\n",
    "# plotando\n",
    "import matplotlib.pyplot as plt\n",
    "plt.figure(figsize=(6,3))\n",
    "plt.plot(S1,C1,label='$C_1=max(S_1(\\omega)-K,0)$')\n",
    "plt.legend()\n",
    "plt.xlabel('Valor do Ativo: $S_1$')\n",
    "plt.ylabel('Payoff da Call: $C_1$')"
   ]
  },
  {
   "cell_type": "markdown",
   "id": "1b09d13a",
   "metadata": {},
   "source": [
    "#### Replicação de payoffs\n",
    "Suponha que nós tenhamos um ativo livre de risco, um ativo com risco, e uma opção de compra (call). Pela lei do preço único, se nós conseguirmos replicar perfeitamente o payoff da call (considerando todos os possíveis estados) utilizando apenas os ativos (com risco e livre de risco), o valor do portfolio e da opção de compra devem ser iguais.\n",
    "* Se dois investimentos possuem exatamente a mesma distribuição de payoffs, então eles também devem ter o mesmo preço.\n",
    "\n",
    "1. Considere o ativo livre de risco valendo 10 em $t=0$ e 11 em $t=1$: $B=(10,11)$ *vamos considerar uma treasury bond*\n",
    "2. Considere o ativo arriscado valendo 10 em $t=0$ e podendo valer 20 ou 5 em $t=1$: $S=(10,(20,5))$ *aqui consideramos uma ação*\n",
    "3. Por fim, assumindo um strike price de 15, considere uma call com dois payoffs possíveis dependendo de S: $C_1=(5,0)$\n",
    "\n",
    "Se houver uma combinação de $b$ e $s$ que resolva as seguintes equações, então temos como replicar perfeitamente o payoff da call utilizando apenas os 2 ativos.\n",
    "\n",
    "$b*B_1+s*S_1^u=C_1^u$ <br />\n",
    "$b*B_1+s*S_1^d=C_1^d$\n",
    "\n",
    "Vamos utilizar matrizes para resolver b e s.\n",
    "\n",
    "$M * \\phi = C_1$ $\\therefore$ $ \\begin{bmatrix} 11 & 20 \\\\ 11 & 5 \\end{bmatrix}  $ $ \\begin{bmatrix} b \\\\ s \n",
    "\\end{bmatrix}  $ = $ \\begin{bmatrix} 5 \\\\ 0 \\end{bmatrix}  $\n",
    "\n",
    "spoiler:\n",
    "* b = -0.1515 e s = 0.3333\n",
    "* **Isso significa que podemos replicar o payoff da call vendendo 0.16 bonds a descoberto e comprando 0.33 ações**"
   ]
  },
  {
   "cell_type": "code",
   "execution_count": 4,
   "id": "8c3de091",
   "metadata": {},
   "outputs": [],
   "source": [
    "B = (10, np.array((11, 11)))\n",
    "S = (10, np.array((20, 5)))"
   ]
  },
  {
   "cell_type": "code",
   "execution_count": 5,
   "id": "84526ac4",
   "metadata": {},
   "outputs": [
    {
     "data": {
      "text/plain": [
       "array([[11, 20],\n",
       "       [11,  5]])"
      ]
     },
     "execution_count": 5,
     "metadata": {},
     "output_type": "execute_result"
    }
   ],
   "source": [
    "# precisamos transpor a matriz para ficar de acordo com as equações\n",
    "M = np.array((B[1],S[1])).T\n",
    "M"
   ]
  },
  {
   "cell_type": "code",
   "execution_count": 6,
   "id": "4c6c9201",
   "metadata": {},
   "outputs": [
    {
     "data": {
      "text/plain": [
       "array([5, 0])"
      ]
     },
     "execution_count": 6,
     "metadata": {},
     "output_type": "execute_result"
    }
   ],
   "source": [
    "# obtendo os payoffs da call (C1)\n",
    "K=15\n",
    "C1 = np.maximum(S[1]-K,0)\n",
    "C1"
   ]
  },
  {
   "cell_type": "code",
   "execution_count": 7,
   "id": "2c2eb26c",
   "metadata": {},
   "outputs": [
    {
     "data": {
      "text/plain": [
       "array([-0.15151515,  0.33333333])"
      ]
     },
     "execution_count": 7,
     "metadata": {},
     "output_type": "execute_result"
    }
   ],
   "source": [
    "# resolvendo para achar b e s\n",
    "phi = np.linalg.solve(M,C1)\n",
    "phi"
   ]
  },
  {
   "cell_type": "markdown",
   "id": "c8628a7f",
   "metadata": {},
   "source": [
    "repetindo...\n",
    "* b = -0.1515 e s = 0.3333\n",
    "* **Isso significa que podemos replicar o payoff da call vendendo 0.16 bonds a descoberto e comprando 0.33 ações**\n",
    "\n",
    "continuação...\n",
    "* Portando, como replicamos perfeitamente o payoff da call, o valor da call em $t=0$ e em $t=1$ é o mesmo valor do portfolio que acabamos de montar, logo: <br />\n",
    "$V_t(\\phi)=b*B_t+s*S_t$ sendo $t \\in {0,1}$ <br />\n",
    "$V=(V_0,V_1) = (1.82,(5,0))$ <br />\n",
    "*lembre-se que em $t_1$ teremos 2 valores possíveis*\n"
   ]
  },
  {
   "cell_type": "code",
   "execution_count": 8,
   "id": "9998b621",
   "metadata": {},
   "outputs": [
    {
     "data": {
      "text/plain": [
       "1.82"
      ]
     },
     "execution_count": 8,
     "metadata": {},
     "output_type": "execute_result"
    }
   ],
   "source": [
    "V0 = phi[0]*B[0]+phi[1]*S[0]\n",
    "np.round(V0,decimals=2)"
   ]
  },
  {
   "cell_type": "code",
   "execution_count": 9,
   "id": "d2a37857",
   "metadata": {},
   "outputs": [
    {
     "data": {
      "text/plain": [
       "array([5., 0.])"
      ]
     },
     "execution_count": 9,
     "metadata": {},
     "output_type": "execute_result"
    }
   ],
   "source": [
    "V1 = phi[0]*B[1]+phi[1]*S[1]\n",
    "np.round(V1,decimals=2)"
   ]
  },
  {
   "cell_type": "markdown",
   "id": "fbbbba65",
   "metadata": {},
   "source": [
    "#### Arbitragem\n",
    "\n",
    "Utilizando as porcentagens que temos até o momento: $p=0.4$, $1-p=0.6$, caso a call esteja valendo 2 reais hoje, existe uma possibilidade de **arbitragem**:\n",
    "1. em $t=0$: vender a call a descoberto e comprar o portfolio de replicação, embolsando 0.18 de lucro.\n",
    "2. em $t=1$: o valor esperado do porfolio é de 2 reais, assim como o valor esperado da call, e portanto, vendemos o portfolio, e recompramos a call que estavamos em short, resultando em net = 0 em $t=1$.\n",
    "3. no total: lucramos 0.18 em 2 períodos com zero de investimento\n",
    "\n",
    "Em geral, as teorias não aceitam modelos que permitam arbitragem, portanto, o valor das contingent claims vai ser igual ao valor do portfolio de replicação em todos os períodos:\n",
    "$$C=(C_0,C_1)=(V_0(\\phi),V_1(\\phi))$$\n",
    "\n",
    "#### Market Completeness\n",
    "Esse modelo de precificação de ativos atravez da replicação de portfolios e da teoria da arbitragem garante que todo portfolio pode ser perfeitamente replicado desde que haja solução para o sistema de matrizes: $M * \\phi = C_1$.\n",
    "\n",
    "A única forma de não haver solução para este sistema é quando o determinante matriz M é 0, ou seja, as colunas são linearmente dependentes. Isso só seria possível caso os payouts do ativo com risco em $t=1$ pudessem ser iguais. Portanto, a condição que impomos é que $S_1=(S_1^u,S_1^d)$, onde $S_1^u \\neq S_1^d$."
   ]
  },
  {
   "cell_type": "markdown",
   "id": "291f1c4f",
   "metadata": {},
   "source": [
    "---\n",
    "\n",
    "### Pronto, acabamos de definir a Teoria do Arbitrage-Free Pricing. \n",
    "\n",
    "#### Passamos por todos os pontos e premissas e chegamos à conclusão de que qualquer ativo pode ser replicado por um portfolio contendo apenas o ativo livre de risco, e um ativo com risco conhecido. Então, a partir da precificação deste portfolio e da lei do preço único, descobrimos o preço do ativo que queremos precificar.\n",
    "\n",
    "Assim terminamos a parte 1 do tutorial sobre Teoria Financeira.\n",
    "\n",
    "Na próxima parte irei falar sobre as Teorias Fundamentais do Asset Pricing"
   ]
  }
 ],
 "metadata": {
  "kernelspec": {
   "display_name": "Python 3 (ipykernel)",
   "language": "python",
   "name": "python3"
  },
  "language_info": {
   "codemirror_mode": {
    "name": "ipython",
    "version": 3
   },
   "file_extension": ".py",
   "mimetype": "text/x-python",
   "name": "python",
   "nbconvert_exporter": "python",
   "pygments_lexer": "ipython3",
   "version": "3.10.9"
  }
 },
 "nbformat": 4,
 "nbformat_minor": 5
}
